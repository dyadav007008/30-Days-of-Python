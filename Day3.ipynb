{
 "cells": [
  {
   "cell_type": "code",
   "execution_count": 1,
   "id": "50070066-63c5-4216-8339-365a4ea2c956",
   "metadata": {},
   "outputs": [],
   "source": [
    "# Decision Making:  If Statements\n"
   ]
  },
  {
   "cell_type": "code",
   "execution_count": null,
   "id": "84842ac7-cac4-41c1-a627-ce68bb97b8a7",
   "metadata": {},
   "outputs": [],
   "source": [
    "# Relational Operator: == is a relational operator; it is used for comparision of equality.\n"
   ]
  },
  {
   "cell_type": "code",
   "execution_count": 3,
   "id": "c15fc073-c1c2-409c-bc64-e75fd0ae6bba",
   "metadata": {},
   "outputs": [
    {
     "data": {
      "text/plain": [
       "True"
      ]
     },
     "execution_count": 3,
     "metadata": {},
     "output_type": "execute_result"
    }
   ],
   "source": [
    "# == operator, It compares both value and give output in boolean values\n",
    "10 == 10"
   ]
  },
  {
   "cell_type": "code",
   "execution_count": 5,
   "id": "85ac9207-b86b-4cc3-95b8-b4099837737f",
   "metadata": {},
   "outputs": [
    {
     "data": {
      "text/plain": [
       "True"
      ]
     },
     "execution_count": 5,
     "metadata": {},
     "output_type": "execute_result"
    }
   ],
   "source": [
    "# != It compares both value and give output in boolean values\n",
    "10 != 11\n"
   ]
  },
  {
   "cell_type": "code",
   "execution_count": 6,
   "id": "30b636a6-2324-4278-89ba-8a35b7522705",
   "metadata": {},
   "outputs": [
    {
     "data": {
      "text/plain": [
       "False"
      ]
     },
     "execution_count": 6,
     "metadata": {},
     "output_type": "execute_result"
    }
   ],
   "source": [
    "# != It compares both value and give output in boolean values\n",
    "10 != 10"
   ]
  },
  {
   "cell_type": "code",
   "execution_count": 7,
   "id": "39b04915-7f07-40c2-8909-183d51d32bb1",
   "metadata": {},
   "outputs": [
    {
     "data": {
      "text/plain": [
       "False"
      ]
     },
     "execution_count": 7,
     "metadata": {},
     "output_type": "execute_result"
    }
   ],
   "source": [
    "# >= It compares both value and give output in boolean values\n",
    "10 >= 11"
   ]
  },
  {
   "cell_type": "code",
   "execution_count": 9,
   "id": "9c5c4842-0fb0-4f26-a2a3-55c7e0dfc489",
   "metadata": {},
   "outputs": [
    {
     "data": {
      "text/plain": [
       "True"
      ]
     },
     "execution_count": 9,
     "metadata": {},
     "output_type": "execute_result"
    }
   ],
   "source": [
    "# <= It compares both value and give output in boolean values\n",
    "10 <= 11"
   ]
  },
  {
   "cell_type": "code",
   "execution_count": 11,
   "id": "e21edef1-fb38-4852-958e-7bf4c3808180",
   "metadata": {},
   "outputs": [
    {
     "data": {
      "text/plain": [
       "False"
      ]
     },
     "execution_count": 11,
     "metadata": {},
     "output_type": "execute_result"
    }
   ],
   "source": [
    "# > It compares both value and give output in boolean values\n",
    "10 > 11"
   ]
  },
  {
   "cell_type": "code",
   "execution_count": 12,
   "id": "1a94f7fd-3995-43b3-8585-8e88cf2f0fb7",
   "metadata": {},
   "outputs": [
    {
     "data": {
      "text/plain": [
       "True"
      ]
     },
     "execution_count": 12,
     "metadata": {},
     "output_type": "execute_result"
    }
   ],
   "source": [
    "# < It compares both value and give output in boolean values\n",
    "10 < 11"
   ]
  },
  {
   "cell_type": "code",
   "execution_count": 13,
   "id": "f627da57-0ea3-40fc-bb74-d83db625e475",
   "metadata": {},
   "outputs": [
    {
     "name": "stdin",
     "output_type": "stream",
     "text": [
      "Enter the number 50\n"
     ]
    },
    {
     "name": "stdout",
     "output_type": "stream",
     "text": [
      "Number is smaller than 99\n"
     ]
    }
   ],
   "source": [
    "### Check if the number entered from the user is greater than 99 or not:\n",
    "num = int(input(\"Enter the number\"))\n",
    "if(num > 99):\n",
    "    print(\"Number is Greater than 99\")\n",
    "else:\n",
    "    print(\"Number is smaller than 99\")"
   ]
  },
  {
   "cell_type": "code",
   "execution_count": 16,
   "id": "26504d82-3135-403b-ab29-42c252c839cc",
   "metadata": {},
   "outputs": [
    {
     "name": "stdin",
     "output_type": "stream",
     "text": [
      "Enter the number 999\n"
     ]
    },
    {
     "name": "stdout",
     "output_type": "stream",
     "text": [
      "Number is Greater than 99\n"
     ]
    }
   ],
   "source": [
    "### Check if the number entered from the user is greater than 99 or not:\n",
    "num = int(input(\"Enter the number\"))\n",
    "if(num > 99):\n",
    "    print(\"Number is Greater than 99\")\n",
    "else:\n",
    "    print(\"Number is smaller than 99\")"
   ]
  },
  {
   "cell_type": "code",
   "execution_count": 18,
   "id": "14853204-b135-42b3-a21a-79dd5eb36823",
   "metadata": {},
   "outputs": [
    {
     "name": "stdin",
     "output_type": "stream",
     "text": [
      "Enter the number 100\n"
     ]
    },
    {
     "name": "stdout",
     "output_type": "stream",
     "text": [
      "Number is Greater than 100\n"
     ]
    }
   ],
   "source": [
    "# elif Statement\n",
    "num = int(input(\"Enter the number\"))\n",
    "if(num > 1000):\n",
    "    print(\"Number is Greater than 1000\")\n",
    "elif(num > 10):\n",
    "    print(\"Number is Greater than 100\")\n",
    "else:\n",
    "    print(\"Number is smaller than 100\")"
   ]
  },
  {
   "cell_type": "code",
   "execution_count": 24,
   "id": "34f521c3-e2be-4c2e-8dfb-18f3fd4294b3",
   "metadata": {},
   "outputs": [
    {
     "name": "stdin",
     "output_type": "stream",
     "text": [
      "Enter the number 999\n"
     ]
    },
    {
     "name": "stdout",
     "output_type": "stream",
     "text": [
      "Number is Greater than 100\n"
     ]
    }
   ],
   "source": [
    "# elif Statement\n",
    "num = int(input(\"Enter the number\"))\n",
    "if(num == 1000):\n",
    "    print(\"Number is Equal to 1000\")\n",
    "elif(num > 1000):\n",
    "    print(\"Number is Greater than 1000\")\n",
    "elif(num == 100):\n",
    "    print(\"Number is Equal to 100\")\n",
    "elif(num > 100):\n",
    "    print(\"Number is Greater than 100\")\n",
    "else:\n",
    "    print(\"Number is smaller than 100\")"
   ]
  },
  {
   "cell_type": "code",
   "execution_count": 34,
   "id": "fa4e6c55-f65b-483e-b168-2f09640bc132",
   "metadata": {},
   "outputs": [
    {
     "name": "stdin",
     "output_type": "stream",
     "text": [
      "Enter the age of Visitor 17\n"
     ]
    },
    {
     "name": "stdout",
     "output_type": "stream",
     "text": [
      "Welcome to the party. Have Fun!\n"
     ]
    }
   ],
   "source": [
    "# Logical Operators\n",
    "# Write a program to record the age of visitor and allows him to an exclusive children's day party hosted by Mr Obama only \n",
    "## if he or she is above 60 years or below 18 years of age\n",
    "\n",
    "age = int(input(\"Enter the age of Visitor\"))\n",
    "if(age < 18 or age > 60):\n",
    "    print(\"Welcome to the party. Have Fun!\")\n",
    "else:\n",
    "    print(\"Sorry, You are not eligible for the party\")"
   ]
  },
  {
   "cell_type": "code",
   "execution_count": 35,
   "id": "fb32bc4e-9ca9-4805-a541-6aba5cd253c6",
   "metadata": {},
   "outputs": [
    {
     "name": "stdout",
     "output_type": "stream",
     "text": [
      "You won a discount voucher of flat 15% on next purchase\n"
     ]
    }
   ],
   "source": [
    "### Write an program which offers discount based on purchase bills. \n",
    "\n",
    "shoppinng_total = 550\n",
    "\n",
    "if shoppinng_total >= 500:\n",
    "    print(\"You won a discount voucher of flat 15% on next purchase\")\n",
    "elif shoppinng_total >= 250:\n",
    "    print(\"You won a discount voucher of flat 10% on next purchase\")\n",
    "elif shoppinng_total >= 100:\n",
    "    print(\"You won a discount voucher of flat 5% on next purchase\")    \n",
    "else:\n",
    "    print(\"OOPS!! no discount for you!!!\")"
   ]
  },
  {
   "cell_type": "code",
   "execution_count": 36,
   "id": "baf821a6-9729-47bf-a49a-ff50d27e2aca",
   "metadata": {},
   "outputs": [
    {
     "name": "stdin",
     "output_type": "stream",
     "text": [
      "Enter year to check New Zealand made it to Finals in 20th century :  2019\n"
     ]
    },
    {
     "name": "stdout",
     "output_type": "stream",
     "text": [
      "New Zealand made it to Finals\n"
     ]
    }
   ],
   "source": [
    "world_cups = {2019 : ['England', 'New Zealand'], 2015:[\"Australia\", \"New Zealand\"], 2011 : [\"India\", \"Sri Lanka\"], 2007: [\"Australia\", \"Sri Lanka\"], 2003: [\"Australia\", \"India\"]}\n",
    "\n",
    "year = int(input(\"Enter year to check New Zealand made it to Finals in 20th century : \"))\n",
    "\n",
    "if year in world_cups :\n",
    "    if \"New Zealand\" in world_cups[year] :\n",
    "        print(\"New Zealand made it to Finals\")\n",
    "    else:\n",
    "        print(\"New Zealand could not make it to Finals\")\n",
    "        \n",
    "else:\n",
    "    print(\"World cup wasnt played in\", year)"
   ]
  },
  {
   "cell_type": "code",
   "execution_count": 40,
   "id": "76c7dcd1-c33e-4649-a127-2b1df84ea369",
   "metadata": {},
   "outputs": [
    {
     "name": "stdin",
     "output_type": "stream",
     "text": [
      "Enter the 4 digit pin 5242\n",
      "!Invalid Pin. Try again 6852\n",
      "!Invalid Pin. Try again 1645\n",
      "!Invalid Pin. Try again 1234\n"
     ]
    },
    {
     "name": "stdout",
     "output_type": "stream",
     "text": [
      "Pin validation Successful\n"
     ]
    }
   ],
   "source": [
    "#Loops and iteration\n",
    "#check if the pin entered by the user is correct of invalid\n",
    "\n",
    "pin = input(\"Enter the 4 digit pin\")\n",
    "while pin != '1234':\n",
    "    pin = input(\"!Invalid Pin. Try again\")\n",
    "print(\"Pin validation Successful\")"
   ]
  },
  {
   "cell_type": "code",
   "execution_count": 53,
   "id": "0ab5b482-ef8c-44a6-baae-fbd6856094c9",
   "metadata": {},
   "outputs": [
    {
     "name": "stdin",
     "output_type": "stream",
     "text": [
      "Enter the 4 digit pin:  1234\n"
     ]
    },
    {
     "name": "stdout",
     "output_type": "stream",
     "text": [
      "Pin Validation Successfull\n"
     ]
    }
   ],
   "source": [
    "# Lets try to add max of 3 tries and if user fails to identify . we will print a message of attempted tries\n",
    "\n",
    "attempt = 0\n",
    "max_attempt = 3\n",
    "correct_pin = '1234'\n",
    "while attempt < max_attempt:\n",
    "    pin = input(\"Enter the 4 digit pin: \")\n",
    "    if(pin == correct_pin):\n",
    "        print(\"Pin Validation Successfull\")\n",
    "        break\n",
    "    else:\n",
    "        attempt += 1\n",
    "        if attempt < max_attempt:\n",
    "            print(f\"!Invalid Pin. You have {max_attempt - attempt} tries left.\")\n",
    "        else:\n",
    "            print(\"Maximum attempts reached. You have been locked out.\")"
   ]
  },
  {
   "cell_type": "code",
   "execution_count": 56,
   "id": "4cccfae3-3d68-4760-b122-691c8f22a695",
   "metadata": {},
   "outputs": [
    {
     "name": "stdout",
     "output_type": "stream",
     "text": [
      "1\n",
      "2\n",
      "3\n",
      "4\n",
      "5\n",
      "6\n",
      "7\n",
      "0\n"
     ]
    }
   ],
   "source": [
    "# for loop\n",
    "# iterate over a list of integers\n",
    "a = [1,2,3,4,5,6,7,0]\n",
    "for var in a:\n",
    "    print(var)\n"
   ]
  },
  {
   "cell_type": "code",
   "execution_count": 60,
   "id": "3fdfc696-2c8f-4ac3-a524-0f25cd0fed8f",
   "metadata": {},
   "outputs": [
    {
     "name": "stdout",
     "output_type": "stream",
     "text": [
      "O:n:e: :P:i:e:c:e: :i:s: :t:h:e: :b:e:s:t: :a:n:i:m:e: :i:n: :t:h:e: :w:o:r:l:d:"
     ]
    }
   ],
   "source": [
    "# for loop\n",
    "# iterate over a list of string\n",
    "a = \"One Piece is the best anime in the world\"\n",
    "for var in a:\n",
    "    print(var,end=':')\n"
   ]
  },
  {
   "cell_type": "code",
   "execution_count": 61,
   "id": "8c062d9d-b60c-491b-81a8-a8cfb3924996",
   "metadata": {},
   "outputs": [
    {
     "name": "stdout",
     "output_type": "stream",
     "text": [
      "O\n",
      "n\n",
      "e\n",
      " \n",
      "P\n",
      "i\n",
      "e\n",
      "c\n",
      "e\n",
      " \n",
      "i\n",
      "s\n",
      " \n",
      "t\n",
      "h\n",
      "e\n",
      " \n",
      "b\n",
      "e\n",
      "s\n",
      "t\n",
      " \n",
      "a\n",
      "n\n",
      "i\n",
      "m\n",
      "e\n",
      " \n",
      "i\n",
      "n\n",
      " \n",
      "t\n",
      "h\n",
      "e\n",
      " \n",
      "w\n",
      "o\n",
      "r\n",
      "l\n",
      "d\n"
     ]
    }
   ],
   "source": [
    "# for loop\n",
    "# iterate over a list of string\n",
    "a = \"One Piece is the best anime in the world\"\n",
    "for var in a:\n",
    "    print(var)\n"
   ]
  },
  {
   "cell_type": "code",
   "execution_count": 67,
   "id": "e44fe023-f10d-48e0-af79-3898a3519671",
   "metadata": {},
   "outputs": [
    {
     "name": "stdout",
     "output_type": "stream",
     "text": [
      "1 ['deepak', 10]\n",
      "2 ['Juhi', 15]\n",
      "3 ['Harshita', 29]\n",
      "4 ['Kalpana', 40]\n",
      "5 ['Robert Downy Jr', 3000]\n"
     ]
    }
   ],
   "source": [
    "# Iterating over dictionary\n",
    "\n",
    "student_data = {1:[\"deepak\",10],2:[\"Juhi\",15],3:[\"Harshita\",29],4:[\"Kalpana\",40],5:[\"Robert Downy Jr\",3000]}\n",
    "student_data\n",
    "for key, val in student_data.items():\n",
    "    print(key, val)\n",
    "    "
   ]
  },
  {
   "cell_type": "code",
   "execution_count": 69,
   "id": "b32bd385-9d5c-4483-b6a4-ae41d293acc5",
   "metadata": {},
   "outputs": [
    {
     "name": "stdout",
     "output_type": "stream",
     "text": [
      "1,2,3,4,"
     ]
    }
   ],
   "source": [
    "# range\n",
    "for i in range(1,5):\n",
    "    print(i,end = ',')"
   ]
  },
  {
   "cell_type": "code",
   "execution_count": 73,
   "id": "bce4ff70-ac04-45aa-a7ba-4520db559884",
   "metadata": {},
   "outputs": [
    {
     "name": "stdout",
     "output_type": "stream",
     "text": [
      "1\n",
      "4\n",
      "2\n",
      "6\n",
      "4\n",
      "7\n",
      "8\n"
     ]
    }
   ],
   "source": [
    "list1 = [1,4,2,6,4,7,8]\n",
    "\n",
    "for i in range(len(list1)):\n",
    "    print(list1[i])"
   ]
  },
  {
   "cell_type": "code",
   "execution_count": 74,
   "id": "0a4107a6-103a-4363-b49c-1119f677f34b",
   "metadata": {},
   "outputs": [
    {
     "name": "stdout",
     "output_type": "stream",
     "text": [
      "[1, 3, 5, 7, 9, 11, 13, 15, 17, 19, 21, 23, 25, 27, 29, 31, 33, 35, 37, 39, 41, 43, 45, 47, 49, 51, 53, 55, 57, 59, 61, 63, 65, 67, 69, 71, 73, 75, 77, 79, 81, 83, 85, 87, 89, 91, 93, 95, 97, 99]\n"
     ]
    }
   ],
   "source": [
    "print(list(range(1,100,2))) # print range of 1 to 100 with a skip step of 2"
   ]
  },
  {
   "cell_type": "code",
   "execution_count": 75,
   "id": "d7ccd06d-0491-4779-9d60-bbaab8944b53",
   "metadata": {},
   "outputs": [
    {
     "name": "stdout",
     "output_type": "stream",
     "text": [
      "[100, 97, 94, 91, 88, 85, 82, 79, 76, 73, 70, 67, 64, 61, 58, 55, 52, 49, 46, 43, 40, 37, 34, 31, 28, 25, 22, 19, 16, 13, 10, 7, 4]\n"
     ]
    }
   ],
   "source": [
    "print(list(range(100,1,-3))) "
   ]
  },
  {
   "cell_type": "code",
   "execution_count": null,
   "id": "8dd71098-d96b-479f-ac56-29c9d782cd92",
   "metadata": {},
   "outputs": [],
   "source": [
    "# Write a program to print number from 1 to 20:\n",
    "\n",
    "for i in range(1,20):\n",
    "    \n",
    "\n"
   ]
  },
  {
   "cell_type": "code",
   "execution_count": 76,
   "id": "05f6b1e9-b5d3-46a3-8501-65ca4824bbae",
   "metadata": {},
   "outputs": [
    {
     "name": "stdout",
     "output_type": "stream",
     "text": [
      "Prime numbers between 1 and 20: [2, 3, 5, 7, 11, 13, 17, 19]\n"
     ]
    }
   ],
   "source": [
    "# Function to check if a number is prime\n",
    "def is_prime(num):\n",
    "    if num <= 1:\n",
    "        return False\n",
    "    for i in range(2, int(num**0.5) + 1):\n",
    "        if num % i == 0:\n",
    "            return False\n",
    "    return True\n",
    "\n",
    "# List to store prime numbers\n",
    "prime_numbers = []\n",
    "\n",
    "# Loop through numbers from 1 to 20\n",
    "for number in range(1, 21):\n",
    "    if is_prime(number):\n",
    "        prime_numbers.append(number)\n",
    "\n",
    "print(\"Prime numbers between 1 and 20:\", prime_numbers)\n"
   ]
  },
  {
   "cell_type": "code",
   "execution_count": 78,
   "id": "29cbf33c-85e9-4853-a980-89827e181d4f",
   "metadata": {},
   "outputs": [
    {
     "data": {
      "text/plain": [
       "['Arun', 'Deepak', 'Joker', 'Mohit', 'Shubham', 'Chahat']"
      ]
     },
     "execution_count": 78,
     "metadata": {},
     "output_type": "execute_result"
    }
   ],
   "source": [
    "li = [\"Arun\",\"Deepak\",\"Joker\",\"Mohit\",\"Shubham\",\"Chahat\"]\n",
    "li"
   ]
  },
  {
   "cell_type": "code",
   "execution_count": 80,
   "id": "130aabd1-944c-4ffc-9eda-42ccae68ffec",
   "metadata": {},
   "outputs": [
    {
     "data": {
      "text/plain": [
       "[4, 6, 5, 5, 7, 6]"
      ]
     },
     "execution_count": 80,
     "metadata": {},
     "output_type": "execute_result"
    }
   ],
   "source": [
    "l2 = []\n",
    "for word in li:\n",
    "    l2.append(len(word))\n",
    "    \n",
    "l2"
   ]
  },
  {
   "cell_type": "code",
   "execution_count": 82,
   "id": "226f45f3-6908-4205-9ce2-3039f3df36e0",
   "metadata": {},
   "outputs": [
    {
     "data": {
      "text/plain": [
       "[4, 6, 5, 5, 7, 6]"
      ]
     },
     "execution_count": 82,
     "metadata": {},
     "output_type": "execute_result"
    }
   ],
   "source": [
    "# Functional Approach:\n",
    "# List Comprehension\n",
    "L2 = [len(word) for word in li]\n",
    "l2"
   ]
  },
  {
   "cell_type": "code",
   "execution_count": 83,
   "id": "c961e1c1-b8bf-4873-9371-545863947f68",
   "metadata": {},
   "outputs": [
    {
     "name": "stdout",
     "output_type": "stream",
     "text": [
      "Arun  -  4\n",
      "Deepak  -  6\n",
      "Joker  -  5\n",
      "Mohit  -  5\n",
      "Shubham  -  7\n",
      "Chahat  -  6\n"
     ]
    }
   ],
   "source": [
    "# iterating over li and l2 simutaneously\n",
    "\n",
    "for i,j in zip(li,l2):\n",
    "    print(i,\" - \", j)"
   ]
  },
  {
   "cell_type": "code",
   "execution_count": 84,
   "id": "9088fb10-5e5d-4020-9212-2d0ecd62060a",
   "metadata": {},
   "outputs": [
    {
     "data": {
      "text/plain": [
       "{'Arun': 4, 'Deepak': 6, 'Joker': 5, 'Mohit': 5, 'Shubham': 7, 'Chahat': 6}"
      ]
     },
     "execution_count": 84,
     "metadata": {},
     "output_type": "execute_result"
    }
   ],
   "source": [
    "## dicionary comrehension\n",
    "d = {word:len(word) for word in li}\n",
    "d"
   ]
  },
  {
   "cell_type": "code",
   "execution_count": 93,
   "id": "140bd5d3-870f-4353-b04b-d6bace4ee6c2",
   "metadata": {},
   "outputs": [
    {
     "name": "stdin",
     "output_type": "stream",
     "text": [
      "Enter a word:  dEEPAK\n"
     ]
    },
    {
     "data": {
      "text/plain": [
       "{'A', 'E'}"
      ]
     },
     "execution_count": 93,
     "metadata": {},
     "output_type": "execute_result"
    }
   ],
   "source": [
    "# Set Comprehension\n",
    "# Write a program which takes a word as input from user and returns vowels from the word \n",
    "word = input(\"Enter a word: \")\n",
    "vowels = {char for char in word if char in \"aeiouAEIOU\"}\n",
    "vowels"
   ]
  },
  {
   "cell_type": "code",
   "execution_count": 92,
   "id": "0e87cc98-e9b2-4889-b628-0cfef46e4daf",
   "metadata": {},
   "outputs": [
    {
     "name": "stdin",
     "output_type": "stream",
     "text": [
      "Enter a word:  DEEPAK\n"
     ]
    },
    {
     "data": {
      "text/plain": [
       "{'A', 'E'}"
      ]
     },
     "execution_count": 92,
     "metadata": {},
     "output_type": "execute_result"
    }
   ],
   "source": [
    "word = input(\"Enter a word: \")\n",
    "vowels = {char for char in word if char in \"aeiouAEIOU\"}\n",
    "vowels"
   ]
  },
  {
   "cell_type": "code",
   "execution_count": 97,
   "id": "482d15ab-b3d1-4912-83ad-cf4d5c016d9e",
   "metadata": {},
   "outputs": [
    {
     "data": {
      "text/plain": [
       "120"
      ]
     },
     "execution_count": 97,
     "metadata": {},
     "output_type": "execute_result"
    }
   ],
   "source": [
    "# Functions\n",
    "# write a function that takes a value and return its factorial\n",
    "\n",
    "def factorial_func(n):\n",
    "    fact = 1\n",
    "    for i in range(1,n+1):\n",
    "        fact = fact*i\n",
    "    return(fact)\n",
    "factorial_func(5)"
   ]
  },
  {
   "cell_type": "code",
   "execution_count": 99,
   "id": "e6a17368-6854-4eed-bec0-2f15d630fcdb",
   "metadata": {},
   "outputs": [
    {
     "name": "stdout",
     "output_type": "stream",
     "text": [
      "Hello, Bob. You are 25 years old.\n",
      "Hello, Alice. You are 30 years old.\n"
     ]
    }
   ],
   "source": [
    "# Default Parameters\n",
    "\n",
    "def greet(name, age=25):\n",
    "    print(f\"Hello, {name}. You are {age} years old.\")\n",
    "\n",
    "# Calling the function with one argument\n",
    "greet(\"Bob\")  # Outputs: Hello, Bob. You are 25 years old.\n",
    "\n",
    "# Calling the function with both arguments\n",
    "greet(\"Alice\", 30)  # Outputs: Hello, Alice. You are 30 years old.\n"
   ]
  },
  {
   "cell_type": "code",
   "execution_count": 100,
   "id": "11433ef7-2997-43bd-88b3-0976cf47f03e",
   "metadata": {},
   "outputs": [
    {
     "name": "stdout",
     "output_type": "stream",
     "text": [
      "Hello, Charlie. You are 30 years old.\n"
     ]
    }
   ],
   "source": [
    "#Keyword Argument\n",
    "def greet(name, age):\n",
    "    print(f\"Hello, {name}. You are {age} years old.\")\n",
    "\n",
    "# Calling the function with keyword arguments\n",
    "greet(age=30, name=\"Charlie\")  # Outputs: Hello, Charlie. You are 30 years old.\n"
   ]
  },
  {
   "cell_type": "code",
   "execution_count": 101,
   "id": "9a72a41f-1677-4cf1-9201-e1a2e1ba4df9",
   "metadata": {},
   "outputs": [
    {
     "name": "stdout",
     "output_type": "stream",
     "text": [
      "Hello, Alice. You are 30 years old.\n"
     ]
    }
   ],
   "source": [
    "# Positional Argument\n",
    "def greet(name, age):\n",
    "    print(f\"Hello, {name}. You are {age} years old.\")\n",
    "\n",
    "# Calling the function with positional arguments\n",
    "greet(\"Alice\", 30)  # Outputs: Hello, Alice. You are 30 years old.\n"
   ]
  },
  {
   "cell_type": "code",
   "execution_count": 104,
   "id": "147819bd-3f14-4054-8ec9-6f25d8a37042",
   "metadata": {},
   "outputs": [
    {
     "name": "stdout",
     "output_type": "stream",
     "text": [
      "(1, 2, 3, 4, 'abs')\n"
     ]
    }
   ],
   "source": [
    "# Variable-Length Parameters\n",
    "def var_func(*args):\n",
    "  print(args)\n",
    "\n",
    "var_func(1,2,3,4,\"abs\")"
   ]
  },
  {
   "cell_type": "code",
   "execution_count": 105,
   "id": "8c586021-8322-43e4-b4ca-9b64206d1576",
   "metadata": {},
   "outputs": [
    {
     "name": "stdout",
     "output_type": "stream",
     "text": [
      "6\n",
      "150\n"
     ]
    }
   ],
   "source": [
    "# Variable-Length Parameters\n",
    "def add(*args):\n",
    "    return sum(args)\n",
    "\n",
    "# Calling the function with multiple arguments\n",
    "print(add(1, 2, 3))  # Outputs: 6\n",
    "print(add(10, 20, 30, 40, 50))  # Outputs: 150"
   ]
  },
  {
   "cell_type": "code",
   "execution_count": 110,
   "id": "e31915cc-b15f-4313-9744-fc273b94c269",
   "metadata": {},
   "outputs": [
    {
     "name": "stdin",
     "output_type": "stream",
     "text": [
      "Enter the number : 56\n"
     ]
    },
    {
     "data": {
      "text/plain": [
       "'Even'"
      ]
     },
     "execution_count": 110,
     "metadata": {},
     "output_type": "execute_result"
    }
   ],
   "source": [
    "# Lambda Functions:\n",
    "\n",
    "f = lambda x: \"Even\" if x % 2 ==0 else \"odd\"\n",
    "f(int(input(\"Enter the number :\")))"
   ]
  },
  {
   "cell_type": "code",
   "execution_count": 113,
   "id": "10f34c3f-bae3-4d89-a03e-452265e17339",
   "metadata": {},
   "outputs": [
    {
     "name": "stdout",
     "output_type": "stream",
     "text": [
      "['DEEPAK', 'JUHI', 'HARSHITA', 'ABHISHEK', 'KALPANA']\n"
     ]
    }
   ],
   "source": [
    "# map Function\n",
    "l1 = [\"Deepak\",\"Juhi\",\"Harshita\",\"Abhishek\",\"Kalpana\"]\n",
    "def upper1(n):\n",
    "     return n.upper()\n",
    "l2 = map(upper1,l1)\n",
    "print(list(l2))\n",
    "\n"
   ]
  },
  {
   "cell_type": "code",
   "execution_count": 128,
   "id": "ce69d552-a05a-468c-b9ea-4bfaa431084b",
   "metadata": {},
   "outputs": [
    {
     "data": {
      "text/plain": [
       "[24, 4, 12, 4, 6]"
      ]
     },
     "execution_count": 128,
     "metadata": {},
     "output_type": "execute_result"
    }
   ],
   "source": [
    "# Filter function\n",
    "natural_number = [1,3,24,5,65,4,3,12,3,4,6,7,5]\n",
    "def iseven(n):\n",
    "    return n%2==0\n",
    "new = list(filter(iseven, natural_number))\n",
    "new"
   ]
  },
  {
   "cell_type": "code",
   "execution_count": 149,
   "id": "92eac6e9-8c04-4340-9cc1-6faac2f8d312",
   "metadata": {},
   "outputs": [
    {
     "name": "stdout",
     "output_type": "stream",
     "text": [
      "3\n"
     ]
    }
   ],
   "source": [
    "## Write a program to count the students with age above 18\n",
    "# lets define a dictionary\n",
    "dict1 = {1:[\"Deepak\",20],2:[\"Juhi\",20],3:[\"Kalpana\",19],4:[\"Gopal\",5],5:[\"Abhishek\",16],6:[\"Arun\",18]}\n",
    "values = [val[1] for val in dict1.values()]\n",
    "def plus18(n):\n",
    "    return n > 18\n",
    "new = list(filter(plus18,values))\n",
    "print(len(new))"
   ]
  },
  {
   "cell_type": "code",
   "execution_count": 154,
   "id": "6a4c6c14-3bee-4661-aa95-4d7d0271f7dc",
   "metadata": {},
   "outputs": [
    {
     "name": "stdout",
     "output_type": "stream",
     "text": [
      "120\n"
     ]
    }
   ],
   "source": [
    "from functools import reduce\n",
    "l5 = [1,4,2,3,5]\n",
    "mul = reduce(lambda x,y : x*y,l5)\n",
    "print(mul)"
   ]
  },
  {
   "cell_type": "code",
   "execution_count": null,
   "id": "005db310-7ec3-413b-853d-bf27b8dd0301",
   "metadata": {},
   "outputs": [],
   "source": []
  },
  {
   "cell_type": "code",
   "execution_count": null,
   "id": "54977573-27d5-48d1-8b84-84ade58d1493",
   "metadata": {},
   "outputs": [],
   "source": []
  },
  {
   "cell_type": "code",
   "execution_count": null,
   "id": "0e4f780f-d3d9-4b64-9573-1a8fd4cd4f0b",
   "metadata": {},
   "outputs": [],
   "source": []
  },
  {
   "cell_type": "code",
   "execution_count": null,
   "id": "f06c4502-45c0-498b-9f7e-93605157f71a",
   "metadata": {},
   "outputs": [],
   "source": []
  }
 ],
 "metadata": {
  "kernelspec": {
   "display_name": "Python 3 (ipykernel)",
   "language": "python",
   "name": "python3"
  },
  "language_info": {
   "codemirror_mode": {
    "name": "ipython",
    "version": 3
   },
   "file_extension": ".py",
   "mimetype": "text/x-python",
   "name": "python",
   "nbconvert_exporter": "python",
   "pygments_lexer": "ipython3",
   "version": "3.11.7"
  }
 },
 "nbformat": 4,
 "nbformat_minor": 5
}
