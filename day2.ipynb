{
 "cells": [
  {
   "cell_type": "code",
   "execution_count": 119,
   "id": "bd2d5be1-9344-4987-a3dc-3bf2575cef56",
   "metadata": {},
   "outputs": [
    {
     "name": "stdout",
     "output_type": "stream",
     "text": [
      "['Deepak', 30, 'Uttar Pradesh']\n",
      "<class 'list'>\n"
     ]
    }
   ],
   "source": [
    "list_1 = ['Deepak', 30, 'Uttar Pradesh']\n",
    "print(list_1)\n",
    "print(type(list_1))"
   ]
  },
  {
   "cell_type": "code",
   "execution_count": 120,
   "id": "3e4698c8-f8d0-4cca-90ab-9417f585b97d",
   "metadata": {},
   "outputs": [
    {
     "name": "stdout",
     "output_type": "stream",
     "text": [
      "['Deepak', 30, [1994, 2024], 'Uttar Pradesh']\n",
      "<class 'list'>\n"
     ]
    }
   ],
   "source": [
    "list_1 = ['Deepak', 30, [1994,2024], 'Uttar Pradesh']\n",
    "print(list_1)\n",
    "print(type(list_1))"
   ]
  },
  {
   "cell_type": "code",
   "execution_count": 121,
   "id": "142e5984-64dc-4c84-8e5b-141c1d840715",
   "metadata": {},
   "outputs": [
    {
     "name": "stdout",
     "output_type": "stream",
     "text": [
      "30\n",
      "Uttar Pradesh\n"
     ]
    }
   ],
   "source": [
    "\n",
    "list_1 = ['Deepak', 30, 'Uttar Pradesh']\n",
    "print(list_1[1])\n",
    "print(list_1[-1])\n"
   ]
  },
  {
   "cell_type": "code",
   "execution_count": 122,
   "id": "50f569ac-b4ad-42b5-958a-bff90781bbaf",
   "metadata": {},
   "outputs": [
    {
     "name": "stdout",
     "output_type": "stream",
     "text": [
      "2024\n",
      "1994\n",
      "[1994, 2024]\n",
      "2024\n"
     ]
    }
   ],
   "source": [
    "list_1 = ['Deepak', 30, [1994,2024], 'Uttar Pradesh']\n",
    "print(list_1[2][1])\n",
    "print(list_1[2][0])\n",
    "print(list_1[2])\n",
    "print(list_1[2][-1])"
   ]
  },
  {
   "cell_type": "code",
   "execution_count": 123,
   "id": "ee87a7d9-143c-4c6a-ba60-06e06500a4f5",
   "metadata": {},
   "outputs": [
    {
     "name": "stdout",
     "output_type": "stream",
     "text": [
      "['Deepak', 30]\n"
     ]
    }
   ],
   "source": [
    "list_1 = ['Deepak', 30, [1994,2024], 'Uttar Pradesh']\n",
    "print(list_1[0:2])"
   ]
  },
  {
   "cell_type": "code",
   "execution_count": 124,
   "id": "7b6b3509-ef23-44e0-b829-427dece130dc",
   "metadata": {},
   "outputs": [
    {
     "name": "stdout",
     "output_type": "stream",
     "text": [
      "[1994, 2024]\n"
     ]
    }
   ],
   "source": [
    "list_1 = ['Deepak', 30, [1994,2024], 'Uttar Pradesh']\n",
    "print(list_1[2][0:2])"
   ]
  },
  {
   "cell_type": "code",
   "execution_count": 125,
   "id": "3db089fe-ca8f-4c23-8f3b-09aadc15cf20",
   "metadata": {},
   "outputs": [
    {
     "name": "stdout",
     "output_type": "stream",
     "text": [
      "True\n"
     ]
    }
   ],
   "source": [
    "l = [1,2,3]\n",
    "print(1 in l)"
   ]
  },
  {
   "cell_type": "code",
   "execution_count": 126,
   "id": "022ba578-19bd-4951-93f7-c7850b77a072",
   "metadata": {},
   "outputs": [
    {
     "name": "stdout",
     "output_type": "stream",
     "text": [
      "[1, 2, 3, 4, 5]\n"
     ]
    }
   ],
   "source": [
    "L =  [1,2,3]\n",
    "new_l = l + [4,5]\n",
    "print(new_l)"
   ]
  },
  {
   "cell_type": "code",
   "execution_count": 127,
   "id": "7fdff6a4-10f1-4c2b-828b-705639ae9519",
   "metadata": {},
   "outputs": [
    {
     "name": "stdout",
     "output_type": "stream",
     "text": [
      "['Deepak', 30, [1994, 2024, 2025, 2026], 'Uttar Pradesh']\n"
     ]
    }
   ],
   "source": [
    "list_1 = ['Deepak', 30, [1994, 2024], 'Uttar Pradesh']\n",
    "list_1[2] = list_1[2] + [2025, 2026]\n",
    "print(list_1)"
   ]
  },
  {
   "cell_type": "code",
   "execution_count": 128,
   "id": "76f991f0-e1ca-4a75-9cb6-ec095efc951a",
   "metadata": {},
   "outputs": [
    {
     "name": "stdout",
     "output_type": "stream",
     "text": [
      "['Deepak', 30, 1994, 2024, 2025, 2026, 'Uttar Pradesh']\n"
     ]
    }
   ],
   "source": [
    "list_1 = ['Deepak', 30, [1994, 2024], 'Uttar Pradesh']\n",
    "new_list = list_1[:2] + list_1[2] + [2025, 2026] + list_1[3:]\n",
    "print(new_list)"
   ]
  },
  {
   "cell_type": "code",
   "execution_count": 129,
   "id": "493120ed-6153-448c-9966-e24028746845",
   "metadata": {},
   "outputs": [
    {
     "name": "stdout",
     "output_type": "stream",
     "text": [
      "['Arun', 30, [1994, 2024], 'Uttar Pradesh']\n"
     ]
    }
   ],
   "source": [
    "list_1 = ['Deepak', 30, [1994, 2024], 'Uttar Pradesh']\n",
    "list_1[0] = 'Arun'\n",
    "print(list_1)"
   ]
  },
  {
   "cell_type": "code",
   "execution_count": 130,
   "id": "fb3deabc-aabf-4a56-b802-2f047abb0121",
   "metadata": {},
   "outputs": [
    {
     "name": "stdout",
     "output_type": "stream",
     "text": [
      "['Deepak', 30, [1994, 2024], 'Uttar Pradesh', 'Owner', 'Bike', 75000]\n"
     ]
    }
   ],
   "source": [
    "list_1 = ['Deepak', 30, [1994, 2024], 'Uttar Pradesh']\n",
    "list_1.extend(['Owner','Bike',75000])\n",
    "print(list_1)"
   ]
  },
  {
   "cell_type": "code",
   "execution_count": 131,
   "id": "7876d2f8-8a6d-41c1-990a-688d72f49495",
   "metadata": {},
   "outputs": [
    {
     "name": "stdout",
     "output_type": "stream",
     "text": [
      "['Deepak', 30, [1994, 2024, 2025, 2026], 'Uttar Pradesh']\n"
     ]
    }
   ],
   "source": [
    "list_1 = ['Deepak', 30, [1994, 2024], 'Uttar Pradesh']\n",
    "list_1[2].extend([2025, 2026])\n",
    "print(list_1)"
   ]
  },
  {
   "cell_type": "code",
   "execution_count": 132,
   "id": "6628f281-3c7f-41de-bf6a-f5772d15c18c",
   "metadata": {},
   "outputs": [
    {
     "name": "stdout",
     "output_type": "stream",
     "text": [
      "['Deepak', 30, [1994, 2024, [2025, 2026]], 'Uttar Pradesh']\n"
     ]
    }
   ],
   "source": [
    "list_1 = ['Deepak', 30, [1994, 2024], 'Uttar Pradesh']\n",
    "list_1[2].append([2025, 2026])\n",
    "print(list_1)"
   ]
  },
  {
   "cell_type": "code",
   "execution_count": 133,
   "id": "97341dca-0f77-4434-870a-052aeee9d2f6",
   "metadata": {},
   "outputs": [
    {
     "name": "stdout",
     "output_type": "stream",
     "text": [
      "['Deepak', 30, [1994, 2024, [2025, 2026]], 'Uttar Pradesh']\n",
      "['Deepak', 30, [1994, 2024, [2025, 2026]]]\n"
     ]
    }
   ],
   "source": [
    "list_1 = ['Deepak', 30, [1994, 2024], 'Uttar Pradesh']\n",
    "list_1[2].append([2025, 2026])\n",
    "print(list_1)\n",
    "del list_1[3]\n",
    "print(list_1)\n"
   ]
  },
  {
   "cell_type": "code",
   "execution_count": 134,
   "id": "a1025c8f-599d-4655-9090-6dbe83cd305d",
   "metadata": {},
   "outputs": [
    {
     "name": "stdout",
     "output_type": "stream",
     "text": [
      "['Deepak', 30, [1994, 2024, [2025, 2026]], 'Uttar Pradesh']\n",
      "['Deepak', 30]\n"
     ]
    }
   ],
   "source": [
    "list_1 = ['Deepak', 30, [1994, 2024], 'Uttar Pradesh']\n",
    "list_1[2].append([2025, 2026])\n",
    "print(list_1)\n",
    "del list_1[2:4]\n",
    "print(list_1)"
   ]
  },
  {
   "cell_type": "code",
   "execution_count": 135,
   "id": "7d26ec0b-73f1-4d46-bfc4-af4906c74f90",
   "metadata": {},
   "outputs": [
    {
     "name": "stdout",
     "output_type": "stream",
     "text": [
      "['Deepak', 30, [1994, 2024, [2025, 2026]], 'Uttar Pradesh']\n"
     ]
    },
    {
     "data": {
      "text/plain": [
       "['Deepak', 30, [1994, 2024, [2025, 2026]]]"
      ]
     },
     "execution_count": 135,
     "metadata": {},
     "output_type": "execute_result"
    }
   ],
   "source": [
    "list_1 = ['Deepak', 30, [1994, 2024], 'Uttar Pradesh']\n",
    "list_1[2].append([2025, 2026])\n",
    "print(list_1)\n",
    "list_1.pop()\n",
    "list_1"
   ]
  },
  {
   "cell_type": "code",
   "execution_count": 136,
   "id": "07f6d20a-8f04-4544-ba14-90168fdb0627",
   "metadata": {},
   "outputs": [
    {
     "name": "stdout",
     "output_type": "stream",
     "text": [
      "['Deepak', 30, [1994, 2024, [2025, 2026]], 'Uttar Pradesh']\n",
      "['Deepak', 30, [1994, 2024, [2025, 2026]]]\n"
     ]
    }
   ],
   "source": [
    "list_1 = ['Deepak', 30, [1994, 2024], 'Uttar Pradesh']\n",
    "list_1[2].append([2025, 2026])\n",
    "print(list_1)\n",
    "list_1.remove('Uttar Pradesh')\n",
    "print(list_1)"
   ]
  },
  {
   "cell_type": "code",
   "execution_count": 137,
   "id": "1eeceb2f-59be-4a59-ae8b-34d92180f51d",
   "metadata": {},
   "outputs": [
    {
     "data": {
      "text/plain": [
       "[2, 5, 6, 24, 45, 78, 94]"
      ]
     },
     "execution_count": 137,
     "metadata": {},
     "output_type": "execute_result"
    }
   ],
   "source": [
    "# Sorting lists: Ascending Order\n",
    "L = [5,2,45,6,24,78,94]\n",
    "L.sort()\n",
    "L\n"
   ]
  },
  {
   "cell_type": "code",
   "execution_count": 138,
   "id": "c5963d7a-cf6c-482e-bd27-eed38595cbac",
   "metadata": {},
   "outputs": [
    {
     "name": "stdout",
     "output_type": "stream",
     "text": [
      "[94, 78, 45, 24, 6, 5, 2]\n"
     ]
    }
   ],
   "source": [
    "# Sorting lists: Descending Order\n",
    "L = [5,2,45,6,24,78,94]\n",
    "L.sort(reverse=True)\n",
    "print(L)"
   ]
  },
  {
   "cell_type": "code",
   "execution_count": 139,
   "id": "f6fffc1d-8c08-476d-9d81-f8844bc99e0f",
   "metadata": {},
   "outputs": [
    {
     "name": "stdout",
     "output_type": "stream",
     "text": [
      "['Goku', 'Itachi', 'Luffy', 'Nezuko', 'Saitama', 'Zoro']\n",
      "None\n"
     ]
    }
   ],
   "source": [
    "A = ['Goku','Saitama','Luffy','Zoro','Itachi','Nezuko']\n",
    "B = A.sort()\n",
    "print(A)\n",
    "print(B)"
   ]
  },
  {
   "cell_type": "code",
   "execution_count": 140,
   "id": "8fb0c2cc-61e7-4448-aa97-e3ee384c9885",
   "metadata": {},
   "outputs": [
    {
     "name": "stdout",
     "output_type": "stream",
     "text": [
      "['Goku', 'Saitama', 'Luffy', 'Zoro', 'Itachi', 'Nezuko']\n",
      "None\n",
      "['Goku', 'Itachi', 'Luffy', 'Nezuko', 'Saitama', 'Zoro']\n"
     ]
    }
   ],
   "source": [
    "A = ['Goku','Saitama','Luffy','Zoro','Itachi','Nezuko']\n",
    "c = sorted(A)\n",
    "print(A)\n",
    "print(B)\n",
    "print(c)"
   ]
  },
  {
   "cell_type": "code",
   "execution_count": 141,
   "id": "c91535d7-06f7-46d2-9770-791a4011d998",
   "metadata": {},
   "outputs": [
    {
     "name": "stdout",
     "output_type": "stream",
     "text": [
      "['Goku', 'Saitama', 'Luffy', 'Zoro', 'Itachi', 'Nezuko'] ['Goku', 'Saitama', 'Luffy', 'Zoro', 'Itachi', 'Nezuko']\n"
     ]
    }
   ],
   "source": [
    "# Shallow Copying\n",
    "A = ['Goku','Saitama','Luffy','Zoro','Itachi','Nezuko']\n",
    "B= A\n",
    "print(A,B)"
   ]
  },
  {
   "cell_type": "code",
   "execution_count": 142,
   "id": "a755af2a-4782-4432-bac2-43785d63a0bc",
   "metadata": {},
   "outputs": [
    {
     "name": "stdout",
     "output_type": "stream",
     "text": [
      "['Beerus', 'Saitama', 'Luffy', 'Zoro', 'Itachi', 'Nezuko'] ['Beerus', 'Saitama', 'Luffy', 'Zoro', 'Itachi', 'Nezuko']\n"
     ]
    }
   ],
   "source": [
    "A[0] = 'Beerus'\n",
    "print(A,B)"
   ]
  },
  {
   "cell_type": "code",
   "execution_count": 143,
   "id": "9b15e87f-58f6-4eab-b034-bcbed21f78b7",
   "metadata": {},
   "outputs": [
    {
     "name": "stdout",
     "output_type": "stream",
     "text": [
      "['Beerus', 'Saitama', 'Luffy', 'Zoro', 'Itachi', 'Nezuko'] ['Goku', 'Saitama', 'Luffy', 'Zoro', 'Itachi', 'Nezuko']\n"
     ]
    }
   ],
   "source": [
    "A = ['Goku','Saitama','Luffy','Zoro','Itachi','Nezuko']\n",
    "B= A[ : ]\n",
    "A[0] = 'Beerus'\n",
    "print(A,B)"
   ]
  },
  {
   "cell_type": "code",
   "execution_count": 144,
   "id": "dfed28df-2336-42cd-804e-9906206fdc92",
   "metadata": {},
   "outputs": [
    {
     "data": {
      "text/plain": [
       "(1, 2, 3, 5)"
      ]
     },
     "execution_count": 144,
     "metadata": {},
     "output_type": "execute_result"
    }
   ],
   "source": [
    "mytuplee = (1,2,3,5)\n",
    "mytuplee"
   ]
  },
  {
   "cell_type": "code",
   "execution_count": 145,
   "id": "5fda2d27-6ca0-43dc-ad61-84ac9d705f39",
   "metadata": {},
   "outputs": [
    {
     "data": {
      "text/plain": [
       "tuple"
      ]
     },
     "execution_count": 145,
     "metadata": {},
     "output_type": "execute_result"
    }
   ],
   "source": [
    "type(mytuplee)"
   ]
  },
  {
   "cell_type": "code",
   "execution_count": 146,
   "id": "9394d61c-5fc8-48c6-8a10-389ceedc460c",
   "metadata": {},
   "outputs": [
    {
     "data": {
      "text/plain": [
       "tuple"
      ]
     },
     "execution_count": 146,
     "metadata": {},
     "output_type": "execute_result"
    }
   ],
   "source": [
    "mytuplee = 1,2,3\n",
    "type(mytuplee)"
   ]
  },
  {
   "cell_type": "code",
   "execution_count": 147,
   "id": "9ba9ab5a-77cb-4158-b0ea-4e4bb4a68f79",
   "metadata": {},
   "outputs": [
    {
     "data": {
      "text/plain": [
       "tuple"
      ]
     },
     "execution_count": 147,
     "metadata": {},
     "output_type": "execute_result"
    }
   ],
   "source": [
    "single_value_tuplee = 1,\n",
    "single_value_tuplee\n",
    "type(single_value_tuplee)"
   ]
  },
  {
   "cell_type": "code",
   "execution_count": 148,
   "id": "2679b56a-03a6-49ba-9298-17eff00ade29",
   "metadata": {},
   "outputs": [
    {
     "data": {
      "text/plain": [
       "'Deepak'"
      ]
     },
     "execution_count": 148,
     "metadata": {},
     "output_type": "execute_result"
    }
   ],
   "source": [
    "# Indexing in tuplee\n",
    "tupleee = ('Deepak',23,1994)\n",
    "tupleee[0]\n"
   ]
  },
  {
   "cell_type": "code",
   "execution_count": 149,
   "id": "be033597-222f-4e05-a7c7-4d79ef9738d6",
   "metadata": {},
   "outputs": [
    {
     "data": {
      "text/plain": [
       "23"
      ]
     },
     "execution_count": 149,
     "metadata": {},
     "output_type": "execute_result"
    }
   ],
   "source": [
    "tupleee[1]\n"
   ]
  },
  {
   "cell_type": "code",
   "execution_count": 150,
   "id": "e3050ff0-ac19-49d2-92ac-3da76d1f3956",
   "metadata": {},
   "outputs": [
    {
     "data": {
      "text/plain": [
       "1994"
      ]
     },
     "execution_count": 150,
     "metadata": {},
     "output_type": "execute_result"
    }
   ],
   "source": [
    "tupleee[-1]\n"
   ]
  },
  {
   "cell_type": "code",
   "execution_count": 151,
   "id": "ba3e9c89-ae41-4bfd-b8cc-e9e5def68a8b",
   "metadata": {},
   "outputs": [
    {
     "data": {
      "text/plain": [
       "('Deepak',)"
      ]
     },
     "execution_count": 151,
     "metadata": {},
     "output_type": "execute_result"
    }
   ],
   "source": [
    "tupleee[0:-2]"
   ]
  },
  {
   "cell_type": "code",
   "execution_count": 152,
   "id": "400ea6b0-bce8-419c-9f65-24bce321c2f1",
   "metadata": {},
   "outputs": [
    {
     "data": {
      "text/plain": [
       "('Deepak', 1994, 56)"
      ]
     },
     "execution_count": 152,
     "metadata": {},
     "output_type": "execute_result"
    }
   ],
   "source": [
    "# slicing in tuplee\n",
    "tupleee = ('Deepak',23,1994,23,56,34,123,567)\n",
    "tupleee[0:-2:2]"
   ]
  },
  {
   "cell_type": "code",
   "execution_count": 153,
   "id": "8ba7d305-28b4-42bf-b9fb-1f0ef19501da",
   "metadata": {},
   "outputs": [
    {
     "data": {
      "text/plain": [
       "8"
      ]
     },
     "execution_count": 153,
     "metadata": {},
     "output_type": "execute_result"
    }
   ],
   "source": [
    "#length of tuplee\n",
    "tupleee = ('Deepak',23,1994,23,56,34,123,567)\n",
    "len(tupleee)"
   ]
  },
  {
   "cell_type": "code",
   "execution_count": 154,
   "id": "1a8a4234-468d-44af-b1e4-70d5f3a213fd",
   "metadata": {},
   "outputs": [
    {
     "data": {
      "text/plain": [
       "(1, 2, 3, 4, 5, 6)"
      ]
     },
     "execution_count": 154,
     "metadata": {},
     "output_type": "execute_result"
    }
   ],
   "source": [
    "# concatinating tuplee\n",
    "\n",
    "a = (1,2,3)\n",
    "b = (4,5,6)\n",
    "c = a + b\n",
    "c"
   ]
  },
  {
   "cell_type": "code",
   "execution_count": 155,
   "id": "7c4b9fbc-9b33-4679-a11c-a003b541ed45",
   "metadata": {},
   "outputs": [
    {
     "data": {
      "text/plain": [
       "6"
      ]
     },
     "execution_count": 155,
     "metadata": {},
     "output_type": "execute_result"
    }
   ],
   "source": [
    "max(c)"
   ]
  },
  {
   "cell_type": "code",
   "execution_count": 156,
   "id": "04113da9-dd7a-49e2-a26a-ceaa09370e77",
   "metadata": {},
   "outputs": [
    {
     "data": {
      "text/plain": [
       "1"
      ]
     },
     "execution_count": 156,
     "metadata": {},
     "output_type": "execute_result"
    }
   ],
   "source": [
    "min(c)"
   ]
  },
  {
   "cell_type": "code",
   "execution_count": 157,
   "id": "0acc5ebd-7b6f-4c55-a459-5f24ab7de589",
   "metadata": {},
   "outputs": [
    {
     "data": {
      "text/plain": [
       "21"
      ]
     },
     "execution_count": 157,
     "metadata": {},
     "output_type": "execute_result"
    }
   ],
   "source": [
    "sum(c)"
   ]
  },
  {
   "cell_type": "code",
   "execution_count": 158,
   "id": "5a2176bd-f59e-4d64-9c75-9b9d475cd794",
   "metadata": {},
   "outputs": [
    {
     "ename": "TypeError",
     "evalue": "'tuple' object does not support item assignment",
     "output_type": "error",
     "traceback": [
      "\u001b[1;31m---------------------------------------------------------------------------\u001b[0m",
      "\u001b[1;31mTypeError\u001b[0m                                 Traceback (most recent call last)",
      "Cell \u001b[1;32mIn[158], line 2\u001b[0m\n\u001b[0;32m      1\u001b[0m c\n\u001b[1;32m----> 2\u001b[0m c[\u001b[38;5;241m3\u001b[39m] \u001b[38;5;241m=\u001b[39m \u001b[38;5;241m7\u001b[39m,\n",
      "\u001b[1;31mTypeError\u001b[0m: 'tuple' object does not support item assignment"
     ]
    }
   ],
   "source": [
    "c\n",
    "c[3] = 7,"
   ]
  },
  {
   "cell_type": "code",
   "execution_count": 159,
   "id": "ca5f1d36-ffe5-4d52-80c2-747c669c73e3",
   "metadata": {},
   "outputs": [
    {
     "data": {
      "text/plain": [
       "(1, 2, 3)"
      ]
     },
     "execution_count": 159,
     "metadata": {},
     "output_type": "execute_result"
    }
   ],
   "source": [
    "c[0:3]"
   ]
  },
  {
   "cell_type": "code",
   "execution_count": 160,
   "id": "b287bf0b-41e3-4320-b057-6dd6a07e519c",
   "metadata": {},
   "outputs": [
    {
     "data": {
      "text/plain": [
       "(1, 2, 3, 4, 5, 6)"
      ]
     },
     "execution_count": 160,
     "metadata": {},
     "output_type": "execute_result"
    }
   ],
   "source": [
    "c"
   ]
  },
  {
   "cell_type": "code",
   "execution_count": 161,
   "id": "dfc0a86e-d1f3-489d-a3e7-99b2cc46f675",
   "metadata": {},
   "outputs": [],
   "source": [
    "d = c[0:3] + (7,) + c[4:]"
   ]
  },
  {
   "cell_type": "code",
   "execution_count": 162,
   "id": "c34c2bf7-f2a5-4aa6-b078-265f19547854",
   "metadata": {},
   "outputs": [
    {
     "data": {
      "text/plain": [
       "(1, 2, 3, 7, 5, 6)"
      ]
     },
     "execution_count": 162,
     "metadata": {},
     "output_type": "execute_result"
    }
   ],
   "source": [
    "d"
   ]
  },
  {
   "cell_type": "code",
   "execution_count": 163,
   "id": "5d545c51-b6fa-492e-a6ce-231e3a8b2714",
   "metadata": {},
   "outputs": [
    {
     "data": {
      "text/plain": [
       "list"
      ]
     },
     "execution_count": 163,
     "metadata": {},
     "output_type": "execute_result"
    }
   ],
   "source": [
    "# Sorting in tuplee\n",
    "f = (34,52,56,21,23,68,9,0,4,232,566)\n",
    "k = sorted(f)\n",
    "type(k)"
   ]
  },
  {
   "cell_type": "code",
   "execution_count": 164,
   "id": "8af17a75-f9b6-4259-9979-168430aafa51",
   "metadata": {},
   "outputs": [
    {
     "ename": "TypeError",
     "evalue": "'tuple' object is not callable",
     "output_type": "error",
     "traceback": [
      "\u001b[1;31m---------------------------------------------------------------------------\u001b[0m",
      "\u001b[1;31mTypeError\u001b[0m                                 Traceback (most recent call last)",
      "Cell \u001b[1;32mIn[164], line 3\u001b[0m\n\u001b[0;32m      1\u001b[0m f \u001b[38;5;241m=\u001b[39m (\u001b[38;5;241m34\u001b[39m,\u001b[38;5;241m52\u001b[39m,\u001b[38;5;241m56\u001b[39m,\u001b[38;5;241m21\u001b[39m,\u001b[38;5;241m23\u001b[39m,\u001b[38;5;241m68\u001b[39m,\u001b[38;5;241m9\u001b[39m,\u001b[38;5;241m0\u001b[39m,\u001b[38;5;241m4\u001b[39m,\u001b[38;5;241m232\u001b[39m,\u001b[38;5;241m566\u001b[39m)\n\u001b[0;32m      2\u001b[0m g \u001b[38;5;241m=\u001b[39m \u001b[38;5;28msorted\u001b[39m(f)\n\u001b[1;32m----> 3\u001b[0m h \u001b[38;5;241m=\u001b[39m tuplee(g)\n",
      "\u001b[1;31mTypeError\u001b[0m: 'tuple' object is not callable"
     ]
    }
   ],
   "source": [
    "f = (34,52,56,21,23,68,9,0,4,232,566)\n",
    "g = sorted(f)\n",
    "h = tuplee(g)"
   ]
  },
  {
   "cell_type": "code",
   "execution_count": 166,
   "id": "4a75a6b8-40b9-4f67-b031-2b11bd1f1547",
   "metadata": {},
   "outputs": [
    {
     "ename": "TypeError",
     "evalue": "'tuple' object is not callable",
     "output_type": "error",
     "traceback": [
      "\u001b[1;31m---------------------------------------------------------------------------\u001b[0m",
      "\u001b[1;31mTypeError\u001b[0m                                 Traceback (most recent call last)",
      "Cell \u001b[1;32mIn[166], line 3\u001b[0m\n\u001b[0;32m      1\u001b[0m f \u001b[38;5;241m=\u001b[39m (\u001b[38;5;241m34\u001b[39m, \u001b[38;5;241m52\u001b[39m, \u001b[38;5;241m56\u001b[39m, \u001b[38;5;241m21\u001b[39m, \u001b[38;5;241m23\u001b[39m, \u001b[38;5;241m68\u001b[39m, \u001b[38;5;241m9\u001b[39m, \u001b[38;5;241m0\u001b[39m, \u001b[38;5;241m4\u001b[39m, \u001b[38;5;241m232\u001b[39m, \u001b[38;5;241m566\u001b[39m)\n\u001b[0;32m      2\u001b[0m g \u001b[38;5;241m=\u001b[39m \u001b[38;5;28msorted\u001b[39m(f)  \u001b[38;5;66;03m# Sort the tuplee and get a list\u001b[39;00m\n\u001b[1;32m----> 3\u001b[0m h \u001b[38;5;241m=\u001b[39m \u001b[38;5;28mtuple\u001b[39m(g)   \u001b[38;5;66;03m# Convert the sorted list back to a tuplee\u001b[39;00m\n\u001b[0;32m      4\u001b[0m \u001b[38;5;28mprint\u001b[39m(h)\n",
      "\u001b[1;31mTypeError\u001b[0m: 'tuple' object is not callable"
     ]
    }
   ],
   "source": [
    "f = (34, 52, 56, 21, 23, 68, 9, 0, 4, 232, 566)\n",
    "g = sorted(f)  # Sort the tuplee and get a list\n",
    "h = tuple(g)   # Convert the sorted list back to a tuplee\n",
    "print(h)"
   ]
  },
  {
   "cell_type": "code",
   "execution_count": null,
   "id": "299d561f-1665-43e6-8780-10449a74234c",
   "metadata": {},
   "outputs": [],
   "source": []
  },
  {
   "cell_type": "code",
   "execution_count": 9,
   "id": "f58775d6-f17d-4e13-bca7-3028f700edac",
   "metadata": {},
   "outputs": [
    {
     "data": {
      "text/plain": [
       "('INR', 'Yen')"
      ]
     },
     "execution_count": 9,
     "metadata": {},
     "output_type": "execute_result"
    }
   ],
   "source": [
    "#dictionary\n",
    "p = {\"India\":\"INR\",\"USA\":\"USD\",\"UK\":\"Euro\",\"Japan\":\"Yen\"}\n",
    "p\n",
    "(p[\"India\"],p[\"Japan\"])"
   ]
  },
  {
   "cell_type": "code",
   "execution_count": 8,
   "id": "191fdfac-f429-4813-b319-fc273ec07187",
   "metadata": {},
   "outputs": [
    {
     "data": {
      "text/plain": [
       "('INR', 'Yen')"
      ]
     },
     "execution_count": 8,
     "metadata": {},
     "output_type": "execute_result"
    }
   ],
   "source": [
    "(p[\"India\"],p[\"Japan\"])"
   ]
  },
  {
   "cell_type": "code",
   "execution_count": 16,
   "id": "c8d5b53e-22f8-49bb-baa2-310df3223a25",
   "metadata": {},
   "outputs": [
    {
     "data": {
      "text/plain": [
       "{'India': 'INR', 'USA': '$', 'UK': 'Euro', 'Japan': 'Yen', 'Usa': ['$']}"
      ]
     },
     "execution_count": 16,
     "metadata": {},
     "output_type": "execute_result"
    }
   ],
   "source": [
    "# Replace value of a key in dictionary\n",
    "p[\"USA\"] = \"$\"\n",
    "p"
   ]
  },
  {
   "cell_type": "code",
   "execution_count": 17,
   "id": "960612db-eb9f-4fbb-9577-bbfd7a7f961d",
   "metadata": {},
   "outputs": [
    {
     "data": {
      "text/plain": [
       "{'India': 'INR',\n",
       " 'USA': '$',\n",
       " 'UK': 'Euro',\n",
       " 'Japan': 'Yen',\n",
       " 'Usa': ['$'],\n",
       " 'Korea': 'WON'}"
      ]
     },
     "execution_count": 17,
     "metadata": {},
     "output_type": "execute_result"
    }
   ],
   "source": [
    "#insert a new key pair\n",
    "p[\"Korea\"] = \"WON\"\n",
    "p"
   ]
  },
  {
   "cell_type": "code",
   "execution_count": 18,
   "id": "637c5998-7118-4643-9a9b-27e561435c70",
   "metadata": {},
   "outputs": [
    {
     "data": {
      "text/plain": [
       "{'India': 'INR',\n",
       " 'USA': '$',\n",
       " 'UK': 'Euro',\n",
       " 'Japan': 'Yen',\n",
       " 'Usa': '$',\n",
       " 'Korea': 'WON'}"
      ]
     },
     "execution_count": 18,
     "metadata": {},
     "output_type": "execute_result"
    }
   ],
   "source": [
    "# Replace value of a key in dictionary\n",
    "p[\"Usa\"] = \"$\"\n",
    "p"
   ]
  },
  {
   "cell_type": "code",
   "execution_count": 20,
   "id": "f573b941-eca8-4281-a109-2c120ab5d49e",
   "metadata": {},
   "outputs": [],
   "source": [
    "#delete a key pair\n",
    "del p[\"Usa\"]"
   ]
  },
  {
   "cell_type": "code",
   "execution_count": 21,
   "id": "3c8dd1ff-23f4-4a7c-8a93-6d5136a6d4f9",
   "metadata": {},
   "outputs": [
    {
     "data": {
      "text/plain": [
       "{'India': 'INR', 'USA': '$', 'UK': 'Euro', 'Japan': 'Yen', 'Korea': 'WON'}"
      ]
     },
     "execution_count": 21,
     "metadata": {},
     "output_type": "execute_result"
    }
   ],
   "source": [
    "p"
   ]
  },
  {
   "cell_type": "code",
   "execution_count": 22,
   "id": "972194b7-8197-44b4-a9d4-dd1368ad34f8",
   "metadata": {},
   "outputs": [
    {
     "data": {
      "text/plain": [
       "['India', 'Japan', 'Korea', 'UK', 'USA']"
      ]
     },
     "execution_count": 22,
     "metadata": {},
     "output_type": "execute_result"
    }
   ],
   "source": [
    "sorted(p)"
   ]
  },
  {
   "cell_type": "code",
   "execution_count": 23,
   "id": "bc30b9e2-59b6-4af8-972e-9f9711298c8e",
   "metadata": {},
   "outputs": [
    {
     "data": {
      "text/plain": [
       "dict_values(['INR', '$', 'Euro', 'Yen', 'WON'])"
      ]
     },
     "execution_count": 23,
     "metadata": {},
     "output_type": "execute_result"
    }
   ],
   "source": [
    "p.values()"
   ]
  },
  {
   "cell_type": "code",
   "execution_count": 24,
   "id": "629f7992-5c2f-4bfd-9abc-41351b1d3588",
   "metadata": {},
   "outputs": [
    {
     "data": {
      "text/plain": [
       "dict_keys(['India', 'USA', 'UK', 'Japan', 'Korea'])"
      ]
     },
     "execution_count": 24,
     "metadata": {},
     "output_type": "execute_result"
    }
   ],
   "source": [
    "p.keys()"
   ]
  },
  {
   "cell_type": "code",
   "execution_count": 25,
   "id": "6df5dcf9-dd69-4b46-a4c5-67fcda1c5a4b",
   "metadata": {},
   "outputs": [],
   "source": [
    "# update method\n",
    "\n",
    "p.update({'USA':'USD'})"
   ]
  },
  {
   "cell_type": "code",
   "execution_count": 26,
   "id": "3e801a52-00b6-46db-b3cc-1c129ce14425",
   "metadata": {},
   "outputs": [
    {
     "data": {
      "text/plain": [
       "{'India': 'INR', 'USA': 'USD', 'UK': 'Euro', 'Japan': 'Yen', 'Korea': 'WON'}"
      ]
     },
     "execution_count": 26,
     "metadata": {},
     "output_type": "execute_result"
    }
   ],
   "source": [
    "p"
   ]
  },
  {
   "cell_type": "code",
   "execution_count": null,
   "id": "c150f8c7-0e53-49bf-90a9-2cf860ed0781",
   "metadata": {},
   "outputs": [],
   "source": []
  }
 ],
 "metadata": {
  "kernelspec": {
   "display_name": "Python 3 (ipykernel)",
   "language": "python",
   "name": "python3"
  },
  "language_info": {
   "codemirror_mode": {
    "name": "ipython",
    "version": 3
   },
   "file_extension": ".py",
   "mimetype": "text/x-python",
   "name": "python",
   "nbconvert_exporter": "python",
   "pygments_lexer": "ipython3",
   "version": "3.11.7"
  }
 },
 "nbformat": 4,
 "nbformat_minor": 5
}
