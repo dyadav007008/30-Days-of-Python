{
 "cells": [
  {
   "cell_type": "code",
   "execution_count": 1,
   "id": "64d5606d-2946-4c0d-afba-be0bd5d6287f",
   "metadata": {},
   "outputs": [
    {
     "name": "stdout",
     "output_type": "stream",
     "text": [
      "Hello World\n"
     ]
    }
   ],
   "source": [
    "print(\"Hello World\")\n"
   ]
  },
  {
   "cell_type": "code",
   "execution_count": 2,
   "id": "865af402-de97-4552-ab69-00670c9aaa18",
   "metadata": {},
   "outputs": [
    {
     "name": "stdout",
     "output_type": "stream",
     "text": [
      "*\n"
     ]
    }
   ],
   "source": [
    "print(\"*\")"
   ]
  },
  {
   "cell_type": "code",
   "execution_count": 3,
   "id": "e37ab8e5-4398-45c1-aa82-f3ad63fd0213",
   "metadata": {},
   "outputs": [
    {
     "name": "stdout",
     "output_type": "stream",
     "text": [
      "*\n",
      "**\n",
      "***\n",
      "****\n",
      "*****\n"
     ]
    }
   ],
   "source": [
    "print(\"*\")\n",
    "print(\"**\")\n",
    "print(\"***\")\n",
    "print(\"****\")\n",
    "print(\"*****\")"
   ]
  },
  {
   "cell_type": "code",
   "execution_count": 4,
   "id": "6a922caf-28ca-4af8-b11e-d782db8110a3",
   "metadata": {},
   "outputs": [
    {
     "name": "stdout",
     "output_type": "stream",
     "text": [
      "*\n",
      "**\n",
      "***\n",
      "****\n",
      "*****\n"
     ]
    }
   ],
   "source": [
    "print(\"*\")\n",
    "print(\"*\"*2)\n",
    "print(\"*\"*3)\n",
    "print(\"*\"*4)\n",
    "print(\"*\"*5)\n"
   ]
  },
  {
   "cell_type": "code",
   "execution_count": 7,
   "id": "84c2bcb1-834d-4a12-9062-c74891cdcadf",
   "metadata": {},
   "outputs": [
    {
     "name": "stdout",
     "output_type": "stream",
     "text": [
      "Deepak\n"
     ]
    }
   ],
   "source": [
    "var1 = \"Deepak\"\n",
    "print(var1)"
   ]
  },
  {
   "cell_type": "code",
   "execution_count": 8,
   "id": "fc8d1192-2b3c-4e36-9510-634e3f36e585",
   "metadata": {},
   "outputs": [
    {
     "name": "stdout",
     "output_type": "stream",
     "text": [
      "6\n"
     ]
    }
   ],
   "source": [
    "var2 = 6\n",
    "print(var2)"
   ]
  },
  {
   "cell_type": "code",
   "execution_count": 9,
   "id": "42b33c00-2fed-4bf5-80c4-c37bb9100d21",
   "metadata": {},
   "outputs": [
    {
     "name": "stdin",
     "output_type": "stream",
     "text": [
      "What's your favourite number?  Deepak\n"
     ]
    },
    {
     "name": "stdout",
     "output_type": "stream",
     "text": [
      "Deepak\n"
     ]
    }
   ],
   "source": [
    "number = input(\"What's your favourite number? \")\n",
    "print(number)"
   ]
  },
  {
   "cell_type": "code",
   "execution_count": 10,
   "id": "fdf81445-2910-4219-b930-cec9283f9dc4",
   "metadata": {},
   "outputs": [
    {
     "name": "stdin",
     "output_type": "stream",
     "text": [
      "Enter your name :  Deepak\n"
     ]
    },
    {
     "name": "stdout",
     "output_type": "stream",
     "text": [
      "Welcome Deepak\n"
     ]
    }
   ],
   "source": [
    "#Let's try taking adding a string to the answer received\n",
    "name = input(\"Enter your name : \")\n",
    "print(\"Welcome\", name)"
   ]
  },
  {
   "cell_type": "code",
   "execution_count": 11,
   "id": "fdbb9dca-b64d-4239-85d9-0a017e2d060b",
   "metadata": {},
   "outputs": [
    {
     "name": "stdin",
     "output_type": "stream",
     "text": [
      "Enter your age :  30\n"
     ]
    },
    {
     "name": "stdout",
     "output_type": "stream",
     "text": [
      "You are  303030303030303030303030  months old\n"
     ]
    }
   ],
   "source": [
    "age = input(\"Enter your age : \")\n",
    "print(\"You are \" , age*12 , \" months old\")"
   ]
  },
  {
   "cell_type": "code",
   "execution_count": 12,
   "id": "69fda552-45af-4dac-9d54-20af61e56db7",
   "metadata": {},
   "outputs": [
    {
     "name": "stdin",
     "output_type": "stream",
     "text": [
      "enter your age  30\n"
     ]
    },
    {
     "name": "stdout",
     "output_type": "stream",
     "text": [
      "You are  360  months old\n"
     ]
    }
   ],
   "source": [
    "age = input(\"enter your age \")\n",
    "age = int(age)\n",
    "print(\"You are \" , age*12 , \" months old\")"
   ]
  },
  {
   "cell_type": "code",
   "execution_count": 13,
   "id": "6cdc7d53-3c98-4835-abf9-71eb8b34c6a0",
   "metadata": {},
   "outputs": [
    {
     "name": "stdout",
     "output_type": "stream",
     "text": [
      "<class 'int'>\n",
      "<class 'float'>\n",
      "<class 'str'>\n",
      "<class 'bool'>\n"
     ]
    }
   ],
   "source": [
    "integer_num = 1\n",
    "floating_num = 1.3\n",
    "string = 'Deepak'\n",
    "boolean = True\n",
    "\n",
    "print (type(integer_num))\n",
    "print (type(floating_num))\n",
    "print (type(string))\n",
    "print (type(boolean))"
   ]
  },
  {
   "cell_type": "code",
   "execution_count": 14,
   "id": "7171cf3c-fefe-4600-b29f-f4374eab6eaf",
   "metadata": {},
   "outputs": [
    {
     "name": "stdout",
     "output_type": "stream",
     "text": [
      "1\n",
      "<class 'int'>\n"
     ]
    }
   ],
   "source": [
    "a=1\n",
    "print(int(a))\n",
    "print(type(a))"
   ]
  },
  {
   "cell_type": "code",
   "execution_count": 17,
   "id": "68341eb3-00be-4a5c-a30d-cd4cf483459c",
   "metadata": {},
   "outputs": [
    {
     "name": "stdout",
     "output_type": "stream",
     "text": [
      "1\n",
      "1.0\n",
      "1\n",
      "True\n"
     ]
    }
   ],
   "source": [
    "a=1\n",
    "print(int(a))\n",
    "print(float(a))\n",
    "print(str(a))\n",
    "print(bool(a))"
   ]
  },
  {
   "cell_type": "code",
   "execution_count": 18,
   "id": "547430c8-1213-4eed-a5f0-b6ba5e454077",
   "metadata": {},
   "outputs": [
    {
     "name": "stdout",
     "output_type": "stream",
     "text": [
      "Addition  =  13\n",
      "Substraction =  -1\n",
      "Multiplication =  42\n",
      "Division =  0.8571428571428571\n",
      "Floor Division =  0\n",
      "Modulus or remainder 6\n",
      "Exponential =  279936\n"
     ]
    }
   ],
   "source": [
    "a = 6\n",
    "b = 7\n",
    "print(\"Addition  = \", a + b)  \n",
    "print(\"Substraction = \", a - b) \n",
    "print(\"Multiplication = \", a * b) \n",
    "print(\"Division = \", a / b)\n",
    "print(\"Floor Division = \", a // b) \n",
    "print(\"Modulus or remainder\",a % b) \n",
    "print(\"Exponential = \", a ** b)"
   ]
  },
  {
   "cell_type": "code",
   "execution_count": 1,
   "id": "87a95bf6-d2f5-4982-a961-294ee5a8ca46",
   "metadata": {},
   "outputs": [
    {
     "name": "stdout",
     "output_type": "stream",
     "text": [
      "Deepak   Deepak\n"
     ]
    }
   ],
   "source": [
    "name = \"Deepak\"\n",
    "name_1 = 'Deepak'\n",
    "print(name, ' ',name_1)"
   ]
  },
  {
   "cell_type": "code",
   "execution_count": 2,
   "id": "67776a61-9430-4a12-86bd-c5664f9a01f6",
   "metadata": {},
   "outputs": [
    {
     "ename": "SyntaxError",
     "evalue": "unterminated string literal (detected at line 1) (2222531152.py, line 1)",
     "output_type": "error",
     "traceback": [
      "\u001b[1;36m  Cell \u001b[1;32mIn[2], line 1\u001b[1;36m\u001b[0m\n\u001b[1;33m    print('I don't know')\u001b[0m\n\u001b[1;37m                       ^\u001b[0m\n\u001b[1;31mSyntaxError\u001b[0m\u001b[1;31m:\u001b[0m unterminated string literal (detected at line 1)\n"
     ]
    }
   ],
   "source": [
    "print('I don't know')"
   ]
  },
  {
   "cell_type": "code",
   "execution_count": 3,
   "id": "e346c5a9-7331-4559-b948-824a852ca035",
   "metadata": {},
   "outputs": [
    {
     "name": "stdout",
     "output_type": "stream",
     "text": [
      "I don't Know\n"
     ]
    }
   ],
   "source": [
    "print(\"I don't Know\")"
   ]
  },
  {
   "cell_type": "code",
   "execution_count": 4,
   "id": "ebb3a81d-e04d-4ae2-98cb-5598f6a06461",
   "metadata": {},
   "outputs": [
    {
     "name": "stdout",
     "output_type": "stream",
     "text": [
      "I don't Know\n"
     ]
    }
   ],
   "source": [
    "print('I don\\'t Know')"
   ]
  },
  {
   "cell_type": "code",
   "execution_count": 29,
   "id": "4ddcc1a2-f474-4d4e-8af3-dd0b59fb29bf",
   "metadata": {
    "scrolled": true
   },
   "outputs": [
    {
     "name": "stdin",
     "output_type": "stream",
     "text": [
      "Enter your first Name? Deepak\n",
      "Enter your last Name? Kumar\n"
     ]
    }
   ],
   "source": [
    "first_name = input(\"Enter your first Name?\")\n",
    "Last_name = input(\"Enter your last Name?\")\n",
    "Full_name = 'Welcome to our Coffee Shop: ' + first_name + ' ' + Last_name"
   ]
  },
  {
   "cell_type": "code",
   "execution_count": 30,
   "id": "5c827a4c-e153-4852-9a11-4ea433c1c5d3",
   "metadata": {},
   "outputs": [
    {
     "name": "stdout",
     "output_type": "stream",
     "text": [
      "Welcome to our Coffee Shop: Deepak Kumar\n"
     ]
    }
   ],
   "source": [
    "print(Full_name)"
   ]
  },
  {
   "cell_type": "code",
   "execution_count": 31,
   "id": "39e2abb4-699f-4be9-a587-d1ac0fc7e569",
   "metadata": {},
   "outputs": [
    {
     "data": {
      "text/plain": [
       "40"
      ]
     },
     "execution_count": 31,
     "metadata": {},
     "output_type": "execute_result"
    }
   ],
   "source": [
    "len(Full_name)"
   ]
  },
  {
   "cell_type": "code",
   "execution_count": 34,
   "id": "a1351bd7-6c94-43c3-ab05-32993d79c43b",
   "metadata": {},
   "outputs": [],
   "source": [
    "string = \"We may encounter many defeats, but we must not be defeated.— Maya Angelou\""
   ]
  },
  {
   "cell_type": "code",
   "execution_count": 35,
   "id": "08f4f365-9136-4087-87bb-2863995e43e9",
   "metadata": {},
   "outputs": [
    {
     "data": {
      "text/plain": [
       "73"
      ]
     },
     "execution_count": 35,
     "metadata": {},
     "output_type": "execute_result"
    }
   ],
   "source": [
    "len(string)"
   ]
  },
  {
   "cell_type": "code",
   "execution_count": 36,
   "id": "65ec8f9d-d41b-4422-bd75-1b82c2e2593e",
   "metadata": {},
   "outputs": [
    {
     "data": {
      "text/plain": [
       "'W'"
      ]
     },
     "execution_count": 36,
     "metadata": {},
     "output_type": "execute_result"
    }
   ],
   "source": [
    "string[0]"
   ]
  },
  {
   "cell_type": "code",
   "execution_count": 37,
   "id": "086c51a5-bd86-42b8-8b28-72136a5dcf02",
   "metadata": {},
   "outputs": [
    {
     "data": {
      "text/plain": [
       "'u'"
      ]
     },
     "execution_count": 37,
     "metadata": {},
     "output_type": "execute_result"
    }
   ],
   "source": [
    "string[-1]"
   ]
  },
  {
   "cell_type": "code",
   "execution_count": 38,
   "id": "e3b209a4-f1cd-4aa3-8ea9-4b489e17a155",
   "metadata": {},
   "outputs": [
    {
     "ename": "TypeError",
     "evalue": "'str' object does not support item assignment",
     "output_type": "error",
     "traceback": [
      "\u001b[1;31m---------------------------------------------------------------------------\u001b[0m",
      "\u001b[1;31mTypeError\u001b[0m                                 Traceback (most recent call last)",
      "Cell \u001b[1;32mIn[38], line 1\u001b[0m\n\u001b[1;32m----> 1\u001b[0m string[\u001b[38;5;241m-\u001b[39m\u001b[38;5;241m1\u001b[39m] \u001b[38;5;241m=\u001b[39m \u001b[38;5;124m'\u001b[39m\u001b[38;5;124ml\u001b[39m\u001b[38;5;124m'\u001b[39m\n",
      "\u001b[1;31mTypeError\u001b[0m: 'str' object does not support item assignment"
     ]
    }
   ],
   "source": [
    "string[-1] = 'l'"
   ]
  },
  {
   "cell_type": "code",
   "execution_count": 39,
   "id": "066d6fef-2067-4a34-b4c6-18c00f016218",
   "metadata": {},
   "outputs": [
    {
     "name": "stdout",
     "output_type": "stream",
     "text": [
      "o\n"
     ]
    }
   ],
   "source": [
    "print(string[10])"
   ]
  },
  {
   "cell_type": "code",
   "execution_count": 40,
   "id": "7d8a6472-5e0b-4cb6-adcb-b845960830a2",
   "metadata": {},
   "outputs": [
    {
     "name": "stdout",
     "output_type": "stream",
     "text": [
      "a\n"
     ]
    }
   ],
   "source": [
    "print(string[-11])"
   ]
  },
  {
   "cell_type": "code",
   "execution_count": 41,
   "id": "29dc6d4b-1ade-46ad-947a-432caba99784",
   "metadata": {},
   "outputs": [
    {
     "ename": "TypeError",
     "evalue": "'str' object does not support item assignment",
     "output_type": "error",
     "traceback": [
      "\u001b[1;31m---------------------------------------------------------------------------\u001b[0m",
      "\u001b[1;31mTypeError\u001b[0m                                 Traceback (most recent call last)",
      "Cell \u001b[1;32mIn[41], line 2\u001b[0m\n\u001b[0;32m      1\u001b[0m \u001b[38;5;66;03m# Trying to change the character at index 2\u001b[39;00m\n\u001b[1;32m----> 2\u001b[0m string[\u001b[38;5;241m2\u001b[39m] \u001b[38;5;241m=\u001b[39m \u001b[38;5;124m'\u001b[39m\u001b[38;5;124mt\u001b[39m\u001b[38;5;124m'\u001b[39m\n",
      "\u001b[1;31mTypeError\u001b[0m: 'str' object does not support item assignment"
     ]
    }
   ],
   "source": [
    "# Trying to change the character at index 2\n",
    "string[2] = 't'\n"
   ]
  },
  {
   "cell_type": "code",
   "execution_count": 42,
   "id": "063d7284-dc1c-4b2c-8603-b4d82c759d65",
   "metadata": {},
   "outputs": [
    {
     "name": "stdout",
     "output_type": "stream",
     "text": [
      "Wt may encounter many defeats, but we must not be defeated.— Maya Angelou\n"
     ]
    }
   ],
   "source": [
    "string = \"Wt may encounter many defeats, but we must not be defeated.— Maya Angelou\"\n",
    "print(string)"
   ]
  },
  {
   "cell_type": "code",
   "execution_count": 45,
   "id": "fb962d05-c6ee-4196-964d-21f2d57cbbdf",
   "metadata": {},
   "outputs": [
    {
     "name": "stdout",
     "output_type": "stream",
     "text": [
      "We may encounter many\n"
     ]
    }
   ],
   "source": [
    "string = \"We may encounter many defeats, but we must not be defeated.— Maya Angelou\"\n",
    "sliced_string = string[0:21]\n",
    "print(sliced_string)"
   ]
  },
  {
   "cell_type": "code",
   "execution_count": 46,
   "id": "6e548cd2-dc98-4598-87b6-943f9c03ac05",
   "metadata": {},
   "outputs": [
    {
     "name": "stdout",
     "output_type": "stream",
     "text": [
      "W a none ay\n"
     ]
    }
   ],
   "source": [
    "string = \"We may encounter many defeats, but we must not be defeated.— Maya Angelou\"\n",
    "sliced_string = string[0:21:2]\n",
    "print(sliced_string)"
   ]
  },
  {
   "cell_type": "code",
   "execution_count": 47,
   "id": "a3a50914-316e-4c82-a14d-fe3725376733",
   "metadata": {},
   "outputs": [
    {
     "name": "stdout",
     "output_type": "stream",
     "text": [
      "W a none ay\n"
     ]
    }
   ],
   "source": [
    "string = \"We may encounter many defeats, but we must not be defeated.— Maya Angelou\"\n",
    "sliced_string = string[:21:2]\n",
    "print(sliced_string)"
   ]
  },
  {
   "cell_type": "code",
   "execution_count": 48,
   "id": "2fdedcf2-6e07-4290-a1cb-1244b6580cf3",
   "metadata": {},
   "outputs": [
    {
     "name": "stdout",
     "output_type": "stream",
     "text": [
      "W a none aydfas u ems o edfae. aaAglu\n"
     ]
    }
   ],
   "source": [
    "string = \"We may encounter many defeats, but we must not be defeated.— Maya Angelou\"\n",
    "sliced_string = string[0::2]\n",
    "print(sliced_string)"
   ]
  },
  {
   "cell_type": "code",
   "execution_count": 51,
   "id": "6d44bc56-6209-4b76-90b6-370d40467c15",
   "metadata": {},
   "outputs": [
    {
     "name": "stdout",
     "output_type": "stream",
     "text": [
      "True\n",
      "False\n"
     ]
    }
   ],
   "source": [
    "string = \"We may encounter many defeats, but we must not be defeated.— Maya Angelou\"\n",
    "print('May' in string)\n",
    "print('new' in string)"
   ]
  },
  {
   "cell_type": "code",
   "execution_count": 52,
   "id": "d25bcd9d-9fff-4733-a3c7-3c9b181b54d5",
   "metadata": {},
   "outputs": [],
   "source": [
    "string = \"We may encounter many defeats, but we must not be defeated.— Maya Angelou\""
   ]
  },
  {
   "cell_type": "code",
   "execution_count": 56,
   "id": "47281ff4-8580-4c05-9c24-ce2945de7886",
   "metadata": {},
   "outputs": [
    {
     "data": {
      "text/plain": [
       "'WE MAY ENCOUNTER MANY DEFEATS, BUT WE MUST NOT BE DEFEATED.— MAYA ANGELOU'"
      ]
     },
     "execution_count": 56,
     "metadata": {},
     "output_type": "execute_result"
    }
   ],
   "source": [
    "string.upper()"
   ]
  },
  {
   "cell_type": "code",
   "execution_count": 57,
   "id": "29ed226a-5d87-4ada-8314-1197faf07a8e",
   "metadata": {},
   "outputs": [
    {
     "data": {
      "text/plain": [
       "'we may encounter many defeats, but we must not be defeated.— maya angelou'"
      ]
     },
     "execution_count": 57,
     "metadata": {},
     "output_type": "execute_result"
    }
   ],
   "source": [
    "string.lower()"
   ]
  },
  {
   "cell_type": "code",
   "execution_count": 59,
   "id": "3a587346-0fd2-48b2-8b6e-0487ba9003b1",
   "metadata": {},
   "outputs": [
    {
     "data": {
      "text/plain": [
       "'We May Encounter Many Defeats, But We Must Not Be Defeated.— Maya Angelou'"
      ]
     },
     "execution_count": 59,
     "metadata": {},
     "output_type": "execute_result"
    }
   ],
   "source": [
    "string.title()"
   ]
  },
  {
   "cell_type": "code",
   "execution_count": 61,
   "id": "78dc7d3c-8814-4d0c-8eb5-24a3433d5170",
   "metadata": {},
   "outputs": [
    {
     "data": {
      "text/plain": [
       "'new data in this'"
      ]
     },
     "execution_count": 61,
     "metadata": {},
     "output_type": "execute_result"
    }
   ],
   "source": [
    "string1= '      new data in this      '\n",
    "string1.strip()"
   ]
  },
  {
   "cell_type": "code",
   "execution_count": 62,
   "id": "33714881-f862-4122-8d76-2e8b72f15f52",
   "metadata": {},
   "outputs": [
    {
     "data": {
      "text/plain": [
       "'new data in this      '"
      ]
     },
     "execution_count": 62,
     "metadata": {},
     "output_type": "execute_result"
    }
   ],
   "source": [
    "string1= '      new data in this      '\n",
    "string1.lstrip()"
   ]
  },
  {
   "cell_type": "code",
   "execution_count": 63,
   "id": "7217ab29-6a5b-4276-b7f8-e715ce583514",
   "metadata": {},
   "outputs": [
    {
     "data": {
      "text/plain": [
       "'      new data in this'"
      ]
     },
     "execution_count": 63,
     "metadata": {},
     "output_type": "execute_result"
    }
   ],
   "source": [
    "string1= '      new data in this      '\n",
    "string1.rstrip()"
   ]
  },
  {
   "cell_type": "code",
   "execution_count": 65,
   "id": "2624e419-3a66-4501-8090-6b10ab1d5876",
   "metadata": {},
   "outputs": [
    {
     "data": {
      "text/plain": [
       "'      new data in this      '"
      ]
     },
     "execution_count": 65,
     "metadata": {},
     "output_type": "execute_result"
    }
   ],
   "source": [
    "string1= '      new data in this      aaaa'\n",
    "string1.rstrip('a')"
   ]
  },
  {
   "cell_type": "code",
   "execution_count": 66,
   "id": "0d1228af-9ba0-459b-ba0b-4d82129405a0",
   "metadata": {},
   "outputs": [
    {
     "name": "stdout",
     "output_type": "stream",
     "text": [
      "444\n"
     ]
    }
   ],
   "source": [
    "num_with_chars = '******444#######'\n",
    "print(num_with_chars.rstrip('#').lstrip('*'))"
   ]
  },
  {
   "cell_type": "code",
   "execution_count": 67,
   "id": "1c801fad-1333-4945-be01-5a78a0498877",
   "metadata": {},
   "outputs": [
    {
     "name": "stdout",
     "output_type": "stream",
     "text": [
      "2\n",
      "1\n"
     ]
    }
   ],
   "source": [
    "string = \"This is a sample sentence\"\n",
    "print(string.count('i'))\n",
    "print(string.count('i',5))"
   ]
  },
  {
   "cell_type": "code",
   "execution_count": 68,
   "id": "cb01f70d-6a02-46f7-8616-b7012247bdb1",
   "metadata": {},
   "outputs": [
    {
     "name": "stdout",
     "output_type": "stream",
     "text": [
      "Data Analysis using Pandas\n"
     ]
    }
   ],
   "source": [
    "A = \"Data\"\n",
    "B = \"Analysis\"\n",
    "C = \"Pandas\"\n",
    "\n",
    "print(\"{0} {1} using {2}\".format(A,B,C))"
   ]
  },
  {
   "cell_type": "code",
   "execution_count": 69,
   "id": "d5094943-9406-40cb-870d-0a5f5a0a0234",
   "metadata": {},
   "outputs": [
    {
     "name": "stdout",
     "output_type": "stream",
     "text": [
      "Welcome to the practice exercise\n"
     ]
    }
   ],
   "source": [
    "string = \"Welcome to the practice exercise\"\n",
    "print(string)"
   ]
  },
  {
   "cell_type": "code",
   "execution_count": 70,
   "id": "e39aaf0d-4440-4298-a5f1-b988d9e391a0",
   "metadata": {},
   "outputs": [
    {
     "name": "stdin",
     "output_type": "stream",
     "text": [
      "Enter your name Deepak Kumar\n"
     ]
    },
    {
     "name": "stdout",
     "output_type": "stream",
     "text": [
      "Deepak Kumar\n"
     ]
    }
   ],
   "source": [
    "string = input(\"Enter your name\")\n",
    "print(string)\n"
   ]
  },
  {
   "cell_type": "code",
   "execution_count": 71,
   "id": "de52e498-43f9-4d3d-81e1-d14010fca8a4",
   "metadata": {},
   "outputs": [
    {
     "name": "stdout",
     "output_type": "stream",
     "text": [
      "  1  \n",
      " 234 \n",
      "56789\n"
     ]
    }
   ],
   "source": [
    "print('  1  ')\n",
    "print(' 234 ')\n",
    "print('56789')"
   ]
  },
  {
   "cell_type": "code",
   "execution_count": 73,
   "id": "5f3bf2cf-be4d-413c-b007-0cf57fa1da45",
   "metadata": {},
   "outputs": [
    {
     "name": "stdout",
     "output_type": "stream",
     "text": [
      "##########\n"
     ]
    }
   ],
   "source": [
    "print('#'*10)"
   ]
  },
  {
   "cell_type": "raw",
   "id": "99f61ada-af52-416e-abb5-b60dadadfe74",
   "metadata": {},
   "source": [
    "a_print = input(\"Enter the Date: \")\n",
    "a_print"
   ]
  },
  {
   "cell_type": "code",
   "execution_count": 80,
   "id": "4e8174c6-b311-48df-b94b-31f0924f896a",
   "metadata": {},
   "outputs": [
    {
     "name": "stdout",
     "output_type": "stream",
     "text": [
      "1.8\n"
     ]
    }
   ],
   "source": [
    "a = 1.8\n",
    "print(str(a))"
   ]
  },
  {
   "cell_type": "code",
   "execution_count": 84,
   "id": "071af8d9-63e2-4afc-9e05-71cc100f3507",
   "metadata": {},
   "outputs": [
    {
     "name": "stdin",
     "output_type": "stream",
     "text": [
      "Enter the first numbers 5\n",
      "Enter the second numbers 4\n"
     ]
    },
    {
     "name": "stdout",
     "output_type": "stream",
     "text": [
      "20\n"
     ]
    }
   ],
   "source": [
    "a = int(input(\"Enter the first numbers\"))\n",
    "b = int(input(\"Enter the second numbers\"))\n",
    "print(a * b)"
   ]
  },
  {
   "cell_type": "code",
   "execution_count": 85,
   "id": "dc0776ab-22b9-4b58-b204-0cc01f937510",
   "metadata": {},
   "outputs": [
    {
     "name": "stdin",
     "output_type": "stream",
     "text": [
      "Enter the first numbers 5\n",
      "Enter the second numbers 4\n"
     ]
    },
    {
     "name": "stdout",
     "output_type": "stream",
     "text": [
      "1\n"
     ]
    }
   ],
   "source": [
    "a = int(input(\"Enter the first numbers\"))\n",
    "b = int(input(\"Enter the second numbers\"))\n",
    "print(a % b)"
   ]
  },
  {
   "cell_type": "code",
   "execution_count": 86,
   "id": "18cd8b40-1991-4b81-85d6-9a2e58ce80f8",
   "metadata": {},
   "outputs": [
    {
     "name": "stdout",
     "output_type": "stream",
     "text": [
      "2\n"
     ]
    }
   ],
   "source": [
    "a = 6\n",
    "b = 4\n",
    "print(a % b)"
   ]
  },
  {
   "cell_type": "code",
   "execution_count": 88,
   "id": "16fab5b3-db81-4034-86f2-e16d33059d4f",
   "metadata": {},
   "outputs": [
    {
     "name": "stdout",
     "output_type": "stream",
     "text": [
      "Hello\n",
      "\n",
      "Good Morning\n"
     ]
    }
   ],
   "source": [
    "print(\"Hello\\n\\nGood Morning\")"
   ]
  },
  {
   "cell_type": "code",
   "execution_count": 89,
   "id": "c2aff8de-a497-4368-b80d-f1b876542ff2",
   "metadata": {},
   "outputs": [
    {
     "name": "stdout",
     "output_type": "stream",
     "text": [
      "Welcome to the coding practice session.\n"
     ]
    }
   ],
   "source": [
    "string1= 'Welcome to the'\n",
    "string2= 'coding practice session.'\n",
    "\n",
    "print(string1 + ' ' + string2)"
   ]
  },
  {
   "cell_type": "code",
   "execution_count": 90,
   "id": "fac839ee-bd79-41b9-ba76-fec004d6867b",
   "metadata": {},
   "outputs": [
    {
     "name": "stdout",
     "output_type": "stream",
     "text": [
      "39\n"
     ]
    }
   ],
   "source": [
    "a = \"Welcome to the coding practice session.\"\n",
    "print(len(a))"
   ]
  },
  {
   "cell_type": "code",
   "execution_count": 91,
   "id": "753f981f-bd6b-4103-8e2a-22f2844378a5",
   "metadata": {},
   "outputs": [
    {
     "name": "stdout",
     "output_type": "stream",
     "text": [
      "We are venomr\n"
     ]
    }
   ],
   "source": [
    "# Create a string of length 12:\n",
    "a = \"We are venom\"\n",
    "\n",
    "# You can verify the length:\n",
    "len(a)\n",
    "\n",
    "# Obtain the fifth letter and store it into a new string:\n",
    "\n",
    "b = a[4]\n",
    "\n",
    "# Obtain the seventh letter and store it into a new string:\n",
    "\n",
    "c = a[5]\n",
    "\n",
    "# Concatenate the two strings:\n",
    "\n",
    "c = a + b\n",
    "\n",
    "# Print the result:\n",
    "print(c)"
   ]
  },
  {
   "cell_type": "code",
   "execution_count": 101,
   "id": "266b22b0-dd4c-4ada-b26c-02365c4bc70f",
   "metadata": {},
   "outputs": [],
   "source": [
    "a = \"We are venom\""
   ]
  },
  {
   "cell_type": "code",
   "execution_count": 102,
   "id": "c543d0b0-1d54-4f4b-943a-5e5feb605c85",
   "metadata": {},
   "outputs": [
    {
     "data": {
      "text/plain": [
       "12"
      ]
     },
     "execution_count": 102,
     "metadata": {},
     "output_type": "execute_result"
    }
   ],
   "source": [
    "len(a)"
   ]
  },
  {
   "cell_type": "code",
   "execution_count": 103,
   "id": "41a5a715-8a9b-4a09-bc54-1324a992e713",
   "metadata": {},
   "outputs": [
    {
     "name": "stdout",
     "output_type": "stream",
     "text": [
      "r\n"
     ]
    }
   ],
   "source": [
    "b = a[4]\n",
    "print(b)"
   ]
  },
  {
   "cell_type": "code",
   "execution_count": 104,
   "id": "371e5a9d-4fad-4366-b3e1-3dfcf866ac04",
   "metadata": {},
   "outputs": [
    {
     "name": "stdout",
     "output_type": "stream",
     "text": [
      "e\n"
     ]
    }
   ],
   "source": [
    "c = a[5]\n",
    "print(c)"
   ]
  },
  {
   "cell_type": "code",
   "execution_count": 105,
   "id": "bdc8aec9-422c-4dfa-928b-57fd6d04df5c",
   "metadata": {},
   "outputs": [
    {
     "name": "stdout",
     "output_type": "stream",
     "text": [
      "re\n"
     ]
    }
   ],
   "source": [
    "d = b + c\n",
    "print(d)"
   ]
  },
  {
   "cell_type": "code",
   "execution_count": 106,
   "id": "62fdd7db-6a89-4020-83f1-ae5f81e4278c",
   "metadata": {},
   "outputs": [
    {
     "name": "stdout",
     "output_type": "stream",
     "text": [
      "     I hope you enjoyed this practice session.\n",
      "     I hope you enjoyed this practice ses\n",
      " \n"
     ]
    }
   ],
   "source": [
    "# Given below is the string:\n",
    "line= '     I hope you enjoyed this practice session.'\n",
    "\n",
    "# Removing extra spaces:\n",
    "line = line.strip()\n",
    "\n",
    "# Print the result:\n",
    "print(line)\n",
    "\n",
    "# Calculate the length:\n",
    "print(len(line))\n",
    "\n",
    "# Slice the string to remove the last 5 characters:\n",
    "line1 = line[:-5]\n",
    "\n",
    "# Print the result:\n",
    "print(line1)\n",
    "\n",
    "# Print the 15th character of the string:\n",
    "\n",
    "print(line[15])\n",
    "\n",
    "# Print the concatenation of first and last character of resulting string:\n",
    "new = line1[0] + line1[-1]"
   ]
  },
  {
   "cell_type": "code",
   "execution_count": 107,
   "id": "a411b5a6-731a-422c-9477-95d0db91fc5d",
   "metadata": {},
   "outputs": [],
   "source": [
    "line= '     I hope you enjoyed this practice session.'"
   ]
  },
  {
   "cell_type": "code",
   "execution_count": 112,
   "id": "f0da034c-6c90-4c48-b1fc-98926ceaa6f4",
   "metadata": {},
   "outputs": [
    {
     "name": "stdout",
     "output_type": "stream",
     "text": [
      "I hope you enjoyed this practice session.\n"
     ]
    }
   ],
   "source": [
    "line = line.strip()\n",
    "print(line)"
   ]
  },
  {
   "cell_type": "code",
   "execution_count": 113,
   "id": "4b30d558-f756-4ed7-bce1-cd1f62a8ed16",
   "metadata": {},
   "outputs": [
    {
     "name": "stdout",
     "output_type": "stream",
     "text": [
      "41\n"
     ]
    }
   ],
   "source": [
    "print(len(line))"
   ]
  },
  {
   "cell_type": "code",
   "execution_count": 114,
   "id": "be0ab730-dd3f-4acb-a817-c13fcd1ab12c",
   "metadata": {},
   "outputs": [
    {
     "name": "stdout",
     "output_type": "stream",
     "text": [
      "I hope you enjoyed this practice ses\n"
     ]
    }
   ],
   "source": [
    "line1 = line[:-5]\n",
    "print(line1)"
   ]
  },
  {
   "cell_type": "code",
   "execution_count": 115,
   "id": "b1f8c351-1858-4530-82f6-306f2055195a",
   "metadata": {},
   "outputs": [
    {
     "name": "stdout",
     "output_type": "stream",
     "text": [
      "y\n"
     ]
    }
   ],
   "source": [
    "print(line[15])"
   ]
  },
  {
   "cell_type": "code",
   "execution_count": 116,
   "id": "5ec63b4a-0bb3-4d8e-a533-a134d598b52a",
   "metadata": {},
   "outputs": [
    {
     "name": "stdout",
     "output_type": "stream",
     "text": [
      "Is\n"
     ]
    }
   ],
   "source": [
    "new = line1[0] + line1[-1]\n",
    "print(new)"
   ]
  },
  {
   "cell_type": "code",
   "execution_count": null,
   "id": "e1943e89-8278-4f9f-ad6d-d7982778deb4",
   "metadata": {},
   "outputs": [],
   "source": []
  }
 ],
 "metadata": {
  "kernelspec": {
   "display_name": "Python 3 (ipykernel)",
   "language": "python",
   "name": "python3"
  },
  "language_info": {
   "codemirror_mode": {
    "name": "ipython",
    "version": 3
   },
   "file_extension": ".py",
   "mimetype": "text/x-python",
   "name": "python",
   "nbconvert_exporter": "python",
   "pygments_lexer": "ipython3",
   "version": "3.11.7"
  }
 },
 "nbformat": 4,
 "nbformat_minor": 5
}
